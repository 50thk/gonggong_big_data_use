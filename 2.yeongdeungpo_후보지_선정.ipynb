{
  "nbformat": 4,
  "nbformat_minor": 0,
  "metadata": {
    "colab": {
      "name": "yeongdeungpo_후보지_선정.ipynb",
      "provenance": [],
      "collapsed_sections": [],
      "mount_file_id": "1rnubRexfRWbOF92GPlAqA8206xTCTGff",
      "authorship_tag": "ABX9TyPUMbAfMHYQWYmapfcBEANk",
      "include_colab_link": true
    },
    "kernelspec": {
      "name": "python3",
      "display_name": "Python 3"
    },
    "language_info": {
      "name": "python"
    }
  },
  "cells": [
    {
      "cell_type": "markdown",
      "metadata": {
        "id": "view-in-github",
        "colab_type": "text"
      },
      "source": [
        "<a href=\"https://colab.research.google.com/github/youngha-Ju/gong_gong_bigdata_mulcam/blob/main/yeongdeungpo_%ED%9B%84%EB%B3%B4%EC%A7%80_%EC%84%A0%EC%A0%95.ipynb\" target=\"_parent\"><img src=\"https://colab.research.google.com/assets/colab-badge.svg\" alt=\"Open In Colab\"/></a>"
      ]
    },
    {
      "cell_type": "code",
      "metadata": {
        "colab": {
          "base_uri": "https://localhost:8080/"
        },
        "id": "t0ydH8eFaGH9",
        "outputId": "a0253417-7dec-4ad0-f7df-ebe21f409b08"
      },
      "source": [
        "!pip install geopandas"
      ],
      "execution_count": null,
      "outputs": [
        {
          "output_type": "stream",
          "name": "stdout",
          "text": [
            "Requirement already satisfied: geopandas in /usr/local/lib/python3.7/dist-packages (0.10.2)\n",
            "Requirement already satisfied: pandas>=0.25.0 in /usr/local/lib/python3.7/dist-packages (from geopandas) (1.1.5)\n",
            "Requirement already satisfied: fiona>=1.8 in /usr/local/lib/python3.7/dist-packages (from geopandas) (1.8.20)\n",
            "Requirement already satisfied: shapely>=1.6 in /usr/local/lib/python3.7/dist-packages (from geopandas) (1.7.1)\n",
            "Requirement already satisfied: pyproj>=2.2.0 in /usr/local/lib/python3.7/dist-packages (from geopandas) (3.2.1)\n",
            "Requirement already satisfied: click-plugins>=1.0 in /usr/local/lib/python3.7/dist-packages (from fiona>=1.8->geopandas) (1.1.1)\n",
            "Requirement already satisfied: attrs>=17 in /usr/local/lib/python3.7/dist-packages (from fiona>=1.8->geopandas) (21.2.0)\n",
            "Requirement already satisfied: setuptools in /usr/local/lib/python3.7/dist-packages (from fiona>=1.8->geopandas) (57.4.0)\n",
            "Requirement already satisfied: certifi in /usr/local/lib/python3.7/dist-packages (from fiona>=1.8->geopandas) (2021.5.30)\n",
            "Requirement already satisfied: click>=4.0 in /usr/local/lib/python3.7/dist-packages (from fiona>=1.8->geopandas) (7.1.2)\n",
            "Requirement already satisfied: munch in /usr/local/lib/python3.7/dist-packages (from fiona>=1.8->geopandas) (2.5.0)\n",
            "Requirement already satisfied: six>=1.7 in /usr/local/lib/python3.7/dist-packages (from fiona>=1.8->geopandas) (1.15.0)\n",
            "Requirement already satisfied: cligj>=0.5 in /usr/local/lib/python3.7/dist-packages (from fiona>=1.8->geopandas) (0.7.2)\n",
            "Requirement already satisfied: numpy>=1.15.4 in /usr/local/lib/python3.7/dist-packages (from pandas>=0.25.0->geopandas) (1.19.5)\n",
            "Requirement already satisfied: python-dateutil>=2.7.3 in /usr/local/lib/python3.7/dist-packages (from pandas>=0.25.0->geopandas) (2.8.2)\n",
            "Requirement already satisfied: pytz>=2017.2 in /usr/local/lib/python3.7/dist-packages (from pandas>=0.25.0->geopandas) (2018.9)\n"
          ]
        }
      ]
    },
    {
      "cell_type": "code",
      "metadata": {
        "colab": {
          "base_uri": "https://localhost:8080/"
        },
        "id": "iEdTsOUdh-av",
        "outputId": "8873d1cb-9934-4328-f9ed-a820ba590d89"
      },
      "source": [
        "%cd '/content/drive/MyDrive/Colab Notebooks/new_project'"
      ],
      "execution_count": null,
      "outputs": [
        {
          "output_type": "stream",
          "name": "stdout",
          "text": [
            "/content/drive/MyDrive/Colab Notebooks/new_project\n"
          ]
        }
      ]
    },
    {
      "cell_type": "code",
      "metadata": {
        "colab": {
          "base_uri": "https://localhost:8080/"
        },
        "id": "e2roIh2Fb_jE",
        "outputId": "9cb1f172-0cfb-403a-aea7-54995234f68c"
      },
      "source": [
        "!pip install git+https://github.com/pysal/spopt.git"
      ],
      "execution_count": null,
      "outputs": [
        {
          "output_type": "stream",
          "name": "stdout",
          "text": [
            "Collecting git+https://github.com/pysal/spopt.git\n",
            "  Cloning https://github.com/pysal/spopt.git to /tmp/pip-req-build-woqjxnb0\n",
            "  Running command git clone -q https://github.com/pysal/spopt.git /tmp/pip-req-build-woqjxnb0\n",
            "Requirement already satisfied: geopandas>=0.7 in /usr/local/lib/python3.7/dist-packages (from spopt==0.1.2+91.g42356de) (0.10.2)\n",
            "Collecting libpysal\n",
            "  Downloading libpysal-4.5.1-py3-none-any.whl (2.4 MB)\n",
            "\u001b[K     |████████████████████████████████| 2.4 MB 32.6 MB/s \n",
            "\u001b[?25hRequirement already satisfied: networkx in /usr/local/lib/python3.7/dist-packages (from spopt==0.1.2+91.g42356de) (2.6.3)\n",
            "Requirement already satisfied: numpy>=1.3 in /usr/local/lib/python3.7/dist-packages (from spopt==0.1.2+91.g42356de) (1.19.5)\n",
            "Requirement already satisfied: pandas>=1 in /usr/local/lib/python3.7/dist-packages (from spopt==0.1.2+91.g42356de) (1.1.5)\n",
            "Collecting pulp\n",
            "  Downloading PuLP-2.5.1-py3-none-any.whl (41.2 MB)\n",
            "\u001b[K     |████████████████████████████████| 41.2 MB 76 kB/s \n",
            "\u001b[?25hRequirement already satisfied: scikit-learn>=0.22 in /usr/local/lib/python3.7/dist-packages (from spopt==0.1.2+91.g42356de) (0.22.2.post1)\n",
            "Requirement already satisfied: scipy>=0.11 in /usr/local/lib/python3.7/dist-packages (from spopt==0.1.2+91.g42356de) (1.4.1)\n",
            "Collecting spaghetti\n",
            "  Downloading spaghetti-1.6.4-py3-none-any.whl (46 kB)\n",
            "\u001b[K     |████████████████████████████████| 46 kB 3.9 MB/s \n",
            "\u001b[?25hRequirement already satisfied: fiona>=1.8 in /usr/local/lib/python3.7/dist-packages (from geopandas>=0.7->spopt==0.1.2+91.g42356de) (1.8.20)\n",
            "Requirement already satisfied: pyproj>=2.2.0 in /usr/local/lib/python3.7/dist-packages (from geopandas>=0.7->spopt==0.1.2+91.g42356de) (3.2.1)\n",
            "Requirement already satisfied: shapely>=1.6 in /usr/local/lib/python3.7/dist-packages (from geopandas>=0.7->spopt==0.1.2+91.g42356de) (1.7.1)\n",
            "Requirement already satisfied: click>=4.0 in /usr/local/lib/python3.7/dist-packages (from fiona>=1.8->geopandas>=0.7->spopt==0.1.2+91.g42356de) (7.1.2)\n",
            "Requirement already satisfied: click-plugins>=1.0 in /usr/local/lib/python3.7/dist-packages (from fiona>=1.8->geopandas>=0.7->spopt==0.1.2+91.g42356de) (1.1.1)\n",
            "Requirement already satisfied: setuptools in /usr/local/lib/python3.7/dist-packages (from fiona>=1.8->geopandas>=0.7->spopt==0.1.2+91.g42356de) (57.4.0)\n",
            "Requirement already satisfied: munch in /usr/local/lib/python3.7/dist-packages (from fiona>=1.8->geopandas>=0.7->spopt==0.1.2+91.g42356de) (2.5.0)\n",
            "Requirement already satisfied: cligj>=0.5 in /usr/local/lib/python3.7/dist-packages (from fiona>=1.8->geopandas>=0.7->spopt==0.1.2+91.g42356de) (0.7.2)\n",
            "Requirement already satisfied: certifi in /usr/local/lib/python3.7/dist-packages (from fiona>=1.8->geopandas>=0.7->spopt==0.1.2+91.g42356de) (2021.5.30)\n",
            "Requirement already satisfied: attrs>=17 in /usr/local/lib/python3.7/dist-packages (from fiona>=1.8->geopandas>=0.7->spopt==0.1.2+91.g42356de) (21.2.0)\n",
            "Requirement already satisfied: six>=1.7 in /usr/local/lib/python3.7/dist-packages (from fiona>=1.8->geopandas>=0.7->spopt==0.1.2+91.g42356de) (1.15.0)\n",
            "Requirement already satisfied: pytz>=2017.2 in /usr/local/lib/python3.7/dist-packages (from pandas>=1->spopt==0.1.2+91.g42356de) (2018.9)\n",
            "Requirement already satisfied: python-dateutil>=2.7.3 in /usr/local/lib/python3.7/dist-packages (from pandas>=1->spopt==0.1.2+91.g42356de) (2.8.2)\n",
            "Requirement already satisfied: joblib>=0.11 in /usr/local/lib/python3.7/dist-packages (from scikit-learn>=0.22->spopt==0.1.2+91.g42356de) (1.0.1)\n",
            "Requirement already satisfied: jinja2 in /usr/local/lib/python3.7/dist-packages (from libpysal->spopt==0.1.2+91.g42356de) (2.11.3)\n",
            "Requirement already satisfied: requests in /usr/local/lib/python3.7/dist-packages (from libpysal->spopt==0.1.2+91.g42356de) (2.23.0)\n",
            "Requirement already satisfied: beautifulsoup4 in /usr/local/lib/python3.7/dist-packages (from libpysal->spopt==0.1.2+91.g42356de) (4.6.3)\n",
            "Requirement already satisfied: MarkupSafe>=0.23 in /usr/local/lib/python3.7/dist-packages (from jinja2->libpysal->spopt==0.1.2+91.g42356de) (2.0.1)\n",
            "Requirement already satisfied: idna<3,>=2.5 in /usr/local/lib/python3.7/dist-packages (from requests->libpysal->spopt==0.1.2+91.g42356de) (2.10)\n",
            "Requirement already satisfied: urllib3!=1.25.0,!=1.25.1,<1.26,>=1.21.1 in /usr/local/lib/python3.7/dist-packages (from requests->libpysal->spopt==0.1.2+91.g42356de) (1.24.3)\n",
            "Requirement already satisfied: chardet<4,>=3.0.2 in /usr/local/lib/python3.7/dist-packages (from requests->libpysal->spopt==0.1.2+91.g42356de) (3.0.4)\n",
            "Collecting esda\n",
            "  Downloading esda-2.4.1.tar.gz (95 kB)\n",
            "\u001b[K     |████████████████████████████████| 95 kB 3.7 MB/s \n",
            "\u001b[?25hCollecting rtree\n",
            "  Downloading Rtree-0.9.7-cp37-cp37m-manylinux2010_x86_64.whl (994 kB)\n",
            "\u001b[K     |████████████████████████████████| 994 kB 27.2 MB/s \n",
            "\u001b[?25hBuilding wheels for collected packages: spopt, esda\n",
            "  Building wheel for spopt (setup.py) ... \u001b[?25l\u001b[?25hdone\n",
            "  Created wheel for spopt: filename=spopt-0.1.2+91.g42356de-py3-none-any.whl size=81165 sha256=6e4a30286712aa9b4ea49ad3f6e4e0cd51d1f24dce5382f78b14c7083489e604\n",
            "  Stored in directory: /tmp/pip-ephem-wheel-cache-c3nh8rnd/wheels/1a/3c/2f/822a93530f5b7bfdf06eeac6b21933664c686d4811720bd4b2\n",
            "  Building wheel for esda (setup.py) ... \u001b[?25l\u001b[?25hdone\n",
            "  Created wheel for esda: filename=esda-2.4.1-py3-none-any.whl size=117429 sha256=799be84afa44f57878a11ff235733db549e425b366b5b52745fce73c5ccf1219\n",
            "  Stored in directory: /root/.cache/pip/wheels/ed/67/c5/4558a178be4c410f341c31f71b5aba9c761a40c9d17dbdfddd\n",
            "Successfully built spopt esda\n",
            "Installing collected packages: libpysal, rtree, esda, spaghetti, pulp, spopt\n",
            "Successfully installed esda-2.4.1 libpysal-4.5.1 pulp-2.5.1 rtree-0.9.7 spaghetti-1.6.4 spopt-0.1.2+91.g42356de\n"
          ]
        }
      ]
    },
    {
      "cell_type": "code",
      "metadata": {
        "id": "Kd1hEv2SiEVZ"
      },
      "source": [
        "import geopandas as gpd\n",
        "import pandas as pd\n",
        "import numpy as np\n",
        "import matplotlib.pyplot as plt\n",
        "import matplotlib\n",
        "import seaborn as sns\n",
        "from matplotlib import font_manager \n",
        "import folium\n",
        "from folium import GeoJson\n",
        "from tqdm import tqdm\n",
        "import math"
      ],
      "execution_count": null,
      "outputs": []
    },
    {
      "cell_type": "code",
      "metadata": {
        "id": "m0AmXhrpxQm9"
      },
      "source": [
        "from sklearn.cluster import KMeans, AgglomerativeClustering, DBSCAN, MeanShift\n",
        "from sklearn.mixture import GaussianMixture\n",
        "from sklearn.metrics import silhouette_samples\n",
        "from sklearn.cluster import estimate_bandwidth\n",
        "import scipy.cluster.hierarchy as shc"
      ],
      "execution_count": null,
      "outputs": []
    },
    {
      "cell_type": "code",
      "metadata": {
        "id": "-191Qxt3iGMo"
      },
      "source": [
        "# !apt-get updata -qq\n",
        "# !apt-get install fonts-nanum* -qq\n",
        "# font_manager._rebuild()"
      ],
      "execution_count": null,
      "outputs": []
    },
    {
      "cell_type": "code",
      "metadata": {
        "id": "NgZi6wsviM_W"
      },
      "source": [
        "boundary = gpd.read_file('../big/HangJeongDong_ver20210401.geojson')\n",
        "sang = pd.read_csv('소상공인시장진흥공단_상가(상권)정보_서울_202106.csv')\n",
        "child_zone = pd.read_csv('./보호구역, 보안등/서울특별시_영등포구_어린이보호구역.csv', encoding='cp949')\n",
        "light = pd.read_csv('./보호구역, 보안등/서울특별시_영등포구_보안등정보.csv', encoding = 'cp949')\n",
        "school = pd.read_csv('한국교원대학교_초중고등학교위치.csv', encoding='cp949')\n",
        "smoking_place = pd.read_csv('흡연구역_전처리_수작업포함.csv', encoding='cp949')"
      ],
      "execution_count": null,
      "outputs": []
    },
    {
      "cell_type": "code",
      "metadata": {
        "id": "4tjG7yPHEVo1"
      },
      "source": [
        "gu = '영등포구'"
      ],
      "execution_count": null,
      "outputs": []
    },
    {
      "cell_type": "code",
      "metadata": {
        "id": "uXn_Sp-gGiQy",
        "colab": {
          "base_uri": "https://localhost:8080/",
          "height": 406
        },
        "outputId": "640b1261-b127-47aa-899d-17f77fa07e2e"
      },
      "source": [
        "light"
      ],
      "execution_count": null,
      "outputs": [
        {
          "output_type": "execute_result",
          "data": {
            "text/html": [
              "<div>\n",
              "<style scoped>\n",
              "    .dataframe tbody tr th:only-of-type {\n",
              "        vertical-align: middle;\n",
              "    }\n",
              "\n",
              "    .dataframe tbody tr th {\n",
              "        vertical-align: top;\n",
              "    }\n",
              "\n",
              "    .dataframe thead th {\n",
              "        text-align: right;\n",
              "    }\n",
              "</style>\n",
              "<table border=\"1\" class=\"dataframe\">\n",
              "  <thead>\n",
              "    <tr style=\"text-align: right;\">\n",
              "      <th></th>\n",
              "      <th>보안등위치명</th>\n",
              "      <th>설치개수</th>\n",
              "      <th>소재지도로명주소</th>\n",
              "      <th>소재지지번주소</th>\n",
              "      <th>위도</th>\n",
              "      <th>경도</th>\n",
              "      <th>설치연도</th>\n",
              "      <th>설치형태</th>\n",
              "      <th>관리기관전화번호</th>\n",
              "      <th>관리기관명</th>\n",
              "      <th>데이터기준일자</th>\n",
              "    </tr>\n",
              "  </thead>\n",
              "  <tbody>\n",
              "    <tr>\n",
              "      <th>0</th>\n",
              "      <td>당산1동-1</td>\n",
              "      <td>1</td>\n",
              "      <td>서울특별시 영등포구 영신로19길30-4</td>\n",
              "      <td>NaN</td>\n",
              "      <td>37.513538</td>\n",
              "      <td>126.904703</td>\n",
              "      <td>NaN</td>\n",
              "      <td>한전주</td>\n",
              "      <td>02-2670-3838</td>\n",
              "      <td>서울특별시 영등포구</td>\n",
              "      <td>2021-04-16</td>\n",
              "    </tr>\n",
              "    <tr>\n",
              "      <th>1</th>\n",
              "      <td>당산1동-10</td>\n",
              "      <td>1</td>\n",
              "      <td>서울특별시 영등포구 영신로19길28</td>\n",
              "      <td>NaN</td>\n",
              "      <td>37.513648</td>\n",
              "      <td>126.905005</td>\n",
              "      <td>NaN</td>\n",
              "      <td>건축물</td>\n",
              "      <td>02-2670-3838</td>\n",
              "      <td>서울특별시 영등포구</td>\n",
              "      <td>2021-04-16</td>\n",
              "    </tr>\n",
              "    <tr>\n",
              "      <th>2</th>\n",
              "      <td>당산1동-100</td>\n",
              "      <td>1</td>\n",
              "      <td>서울특별시 영등포구 영신로19길17</td>\n",
              "      <td>NaN</td>\n",
              "      <td>37.513834</td>\n",
              "      <td>126.905962</td>\n",
              "      <td>NaN</td>\n",
              "      <td>한전주</td>\n",
              "      <td>02-2670-3838</td>\n",
              "      <td>서울특별시 영등포구</td>\n",
              "      <td>2021-04-16</td>\n",
              "    </tr>\n",
              "    <tr>\n",
              "      <th>3</th>\n",
              "      <td>당산1동-100-1</td>\n",
              "      <td>2</td>\n",
              "      <td>서울특별시 영등포구 영신로19길17</td>\n",
              "      <td>NaN</td>\n",
              "      <td>37.513834</td>\n",
              "      <td>126.905962</td>\n",
              "      <td>NaN</td>\n",
              "      <td>한전주</td>\n",
              "      <td>02-2670-3838</td>\n",
              "      <td>서울특별시 영등포구</td>\n",
              "      <td>2021-04-16</td>\n",
              "    </tr>\n",
              "    <tr>\n",
              "      <th>4</th>\n",
              "      <td>당산1동-102</td>\n",
              "      <td>1</td>\n",
              "      <td>서울특별시 영등포구 영신로19길17</td>\n",
              "      <td>NaN</td>\n",
              "      <td>37.513834</td>\n",
              "      <td>126.905962</td>\n",
              "      <td>NaN</td>\n",
              "      <td>한전주</td>\n",
              "      <td>02-2670-3838</td>\n",
              "      <td>서울특별시 영등포구</td>\n",
              "      <td>2021-04-16</td>\n",
              "    </tr>\n",
              "    <tr>\n",
              "      <th>...</th>\n",
              "      <td>...</td>\n",
              "      <td>...</td>\n",
              "      <td>...</td>\n",
              "      <td>...</td>\n",
              "      <td>...</td>\n",
              "      <td>...</td>\n",
              "      <td>...</td>\n",
              "      <td>...</td>\n",
              "      <td>...</td>\n",
              "      <td>...</td>\n",
              "      <td>...</td>\n",
              "    </tr>\n",
              "    <tr>\n",
              "      <th>8792</th>\n",
              "      <td>영등포본동-96</td>\n",
              "      <td>1</td>\n",
              "      <td>서울특별시 영등포구 도림로47가길6-3</td>\n",
              "      <td>NaN</td>\n",
              "      <td>37.497097</td>\n",
              "      <td>126.900475</td>\n",
              "      <td>NaN</td>\n",
              "      <td>건축물</td>\n",
              "      <td>02-2670-3838</td>\n",
              "      <td>서울특별시 영등포구</td>\n",
              "      <td>2021-04-16</td>\n",
              "    </tr>\n",
              "    <tr>\n",
              "      <th>8793</th>\n",
              "      <td>영등포본동-97</td>\n",
              "      <td>1</td>\n",
              "      <td>서울특별시 영등포구 대림로40길 25-12</td>\n",
              "      <td>NaN</td>\n",
              "      <td>37.503144</td>\n",
              "      <td>126.898707</td>\n",
              "      <td>NaN</td>\n",
              "      <td>건축물</td>\n",
              "      <td>02-2670-3838</td>\n",
              "      <td>서울특별시 영등포구</td>\n",
              "      <td>2021-04-16</td>\n",
              "    </tr>\n",
              "    <tr>\n",
              "      <th>8794</th>\n",
              "      <td>영등포본동-98</td>\n",
              "      <td>1</td>\n",
              "      <td>서울특별시 영등포구 가마산로31길 32-4</td>\n",
              "      <td>NaN</td>\n",
              "      <td>37.501173</td>\n",
              "      <td>126.894066</td>\n",
              "      <td>NaN</td>\n",
              "      <td>건축물</td>\n",
              "      <td>02-2670-3838</td>\n",
              "      <td>서울특별시 영등포구</td>\n",
              "      <td>2021-04-16</td>\n",
              "    </tr>\n",
              "    <tr>\n",
              "      <th>8795</th>\n",
              "      <td>영등포본동-99</td>\n",
              "      <td>1</td>\n",
              "      <td>서울특별시 영등포구 도림로39길 7-12</td>\n",
              "      <td>NaN</td>\n",
              "      <td>37.494326</td>\n",
              "      <td>126.896753</td>\n",
              "      <td>NaN</td>\n",
              "      <td>건축물</td>\n",
              "      <td>02-2670-3838</td>\n",
              "      <td>서울특별시 영등포구</td>\n",
              "      <td>2021-04-16</td>\n",
              "    </tr>\n",
              "    <tr>\n",
              "      <th>8796</th>\n",
              "      <td>표찰없음</td>\n",
              "      <td>1</td>\n",
              "      <td>서울특별시 영등포구 대림로34가길16</td>\n",
              "      <td>NaN</td>\n",
              "      <td>37.499604</td>\n",
              "      <td>126.898457</td>\n",
              "      <td>NaN</td>\n",
              "      <td>건축물</td>\n",
              "      <td>02-2670-3838</td>\n",
              "      <td>서울특별시 영등포구</td>\n",
              "      <td>2021-04-16</td>\n",
              "    </tr>\n",
              "  </tbody>\n",
              "</table>\n",
              "<p>8797 rows × 11 columns</p>\n",
              "</div>"
            ],
            "text/plain": [
              "          보안등위치명  설치개수  ...       관리기관명     데이터기준일자\n",
              "0         당산1동-1     1  ...  서울특별시 영등포구  2021-04-16\n",
              "1        당산1동-10     1  ...  서울특별시 영등포구  2021-04-16\n",
              "2       당산1동-100     1  ...  서울특별시 영등포구  2021-04-16\n",
              "3     당산1동-100-1     2  ...  서울특별시 영등포구  2021-04-16\n",
              "4       당산1동-102     1  ...  서울특별시 영등포구  2021-04-16\n",
              "...          ...   ...  ...         ...         ...\n",
              "8792    영등포본동-96     1  ...  서울특별시 영등포구  2021-04-16\n",
              "8793    영등포본동-97     1  ...  서울특별시 영등포구  2021-04-16\n",
              "8794    영등포본동-98     1  ...  서울특별시 영등포구  2021-04-16\n",
              "8795    영등포본동-99     1  ...  서울특별시 영등포구  2021-04-16\n",
              "8796        표찰없음     1  ...  서울특별시 영등포구  2021-04-16\n",
              "\n",
              "[8797 rows x 11 columns]"
            ]
          },
          "metadata": {},
          "execution_count": 10
        }
      ]
    },
    {
      "cell_type": "code",
      "metadata": {
        "id": "icchYefct3wO",
        "colab": {
          "base_uri": "https://localhost:8080/",
          "height": 34
        },
        "outputId": "3ce73afa-cbe1-4a7e-99b2-e661528038b1"
      },
      "source": [
        "'''\n",
        "구내 모든 보안등과 상가를 folium으로 나타내는 코드, 렉이 심함\n",
        "'''\n",
        "# mm = folium.Map(location=[37.513538, 126.904703], zoom_start = 14)\n",
        "# folium.Choropleth(geo_data=boundary[boundary.sggnm == gu], key_on='feature.properties.adm_nm', fill_color='YlGnBu').add_to(mm)\n",
        "\n",
        "# for _, i in light.iterrows():\n",
        "#   folium.Circle(location=[i.위도, i.경도], radius=5, color = 'red').add_to(mm)\n",
        "# for _, i in sang[sang.시군구명 == gu].iterrows():\n",
        "#   folium.Marker(location=[i.위도, i.경도]).add_to(mm)"
      ],
      "execution_count": null,
      "outputs": [
        {
          "output_type": "execute_result",
          "data": {
            "application/vnd.google.colaboratory.intrinsic+json": {
              "type": "string"
            },
            "text/plain": [
              "'\\n구내 모든 보안등과 상가를 folium으로 나타내는 코드, 렉이 심함\\n'"
            ]
          },
          "metadata": {},
          "execution_count": 11
        }
      ]
    },
    {
      "cell_type": "code",
      "metadata": {
        "colab": {
          "base_uri": "https://localhost:8080/",
          "height": 1000
        },
        "id": "dJrrdgNCvR0p",
        "outputId": "3e9720ce-228c-4cf1-a088-3f88caca59f0"
      },
      "source": [
        "'''\n",
        "해당 구 경계면\n",
        "'''\n",
        "mm = folium.Map(location=[37.513538, 126.904703], zoom_start = 14)\n",
        "folium.Choropleth(geo_data=boundary[boundary.sggnm == gu], key_on='feature.properties.adm_nm', fill_color='YlGnBu').add_to(mm)\n",
        "mm"
      ],
      "execution_count": null,
      "outputs": [
        {
          "output_type": "execute_result",
          "data": {
            "text/html": [
              "<div style=\"width:100%;\"><div style=\"position:relative;width:100%;height:0;padding-bottom:60%;\"><span style=\"color:#565656\">Make this Notebook Trusted to load map: File -> Trust Notebook</span><iframe src=\"about:blank\" style=\"position:absolute;width:100%;height:100%;left:0;top:0;border:none !important;\" data-html=%3C%21DOCTYPE%20html%3E%0A%3Chead%3E%20%20%20%20%0A%20%20%20%20%3Cmeta%20http-equiv%3D%22content-type%22%20content%3D%22text/html%3B%20charset%3DUTF-8%22%20/%3E%0A%20%20%20%20%3Cscript%3EL_PREFER_CANVAS%3Dfalse%3B%20L_NO_TOUCH%3Dfalse%3B%20L_DISABLE_3D%3Dfalse%3B%3C/script%3E%0A%20%20%20%20%3Cscript%20src%3D%22https%3A//cdn.jsdelivr.net/npm/leaflet%401.4.0/dist/leaflet.js%22%3E%3C/script%3E%0A%20%20%20%20%3Cscript%20src%3D%22https%3A//code.jquery.com/jquery-1.12.4.min.js%22%3E%3C/script%3E%0A%20%20%20%20%3Cscript%20src%3D%22https%3A//maxcdn.bootstrapcdn.com/bootstrap/3.2.0/js/bootstrap.min.js%22%3E%3C/script%3E%0A%20%20%20%20%3Cscript%20src%3D%22https%3A//cdnjs.cloudflare.com/ajax/libs/Leaflet.awesome-markers/2.0.2/leaflet.awesome-markers.js%22%3E%3C/script%3E%0A%20%20%20%20%3Clink%20rel%3D%22stylesheet%22%20href%3D%22https%3A//cdn.jsdelivr.net/npm/leaflet%401.4.0/dist/leaflet.css%22/%3E%0A%20%20%20%20%3Clink%20rel%3D%22stylesheet%22%20href%3D%22https%3A//maxcdn.bootstrapcdn.com/bootstrap/3.2.0/css/bootstrap.min.css%22/%3E%0A%20%20%20%20%3Clink%20rel%3D%22stylesheet%22%20href%3D%22https%3A//maxcdn.bootstrapcdn.com/bootstrap/3.2.0/css/bootstrap-theme.min.css%22/%3E%0A%20%20%20%20%3Clink%20rel%3D%22stylesheet%22%20href%3D%22https%3A//maxcdn.bootstrapcdn.com/font-awesome/4.6.3/css/font-awesome.min.css%22/%3E%0A%20%20%20%20%3Clink%20rel%3D%22stylesheet%22%20href%3D%22https%3A//cdnjs.cloudflare.com/ajax/libs/Leaflet.awesome-markers/2.0.2/leaflet.awesome-markers.css%22/%3E%0A%20%20%20%20%3Clink%20rel%3D%22stylesheet%22%20href%3D%22https%3A//rawcdn.githack.com/python-visualization/folium/master/folium/templates/leaflet.awesome.rotate.css%22/%3E%0A%20%20%20%20%3Cstyle%3Ehtml%2C%20body%20%7Bwidth%3A%20100%25%3Bheight%3A%20100%25%3Bmargin%3A%200%3Bpadding%3A%200%3B%7D%3C/style%3E%0A%20%20%20%20%3Cstyle%3E%23map%20%7Bposition%3Aabsolute%3Btop%3A0%3Bbottom%3A0%3Bright%3A0%3Bleft%3A0%3B%7D%3C/style%3E%0A%20%20%20%20%0A%20%20%20%20%3Cmeta%20name%3D%22viewport%22%20content%3D%22width%3Ddevice-width%2C%0A%20%20%20%20%20%20%20%20initial-scale%3D1.0%2C%20maximum-scale%3D1.0%2C%20user-scalable%3Dno%22%20/%3E%0A%20%20%20%20%3Cstyle%3E%23map_c0d82ffb778e4cbc985dd6524ba254a0%20%7B%0A%20%20%20%20%20%20%20%20position%3A%20relative%3B%0A%20%20%20%20%20%20%20%20width%3A%20100.0%25%3B%0A%20%20%20%20%20%20%20%20height%3A%20100.0%25%3B%0A%20%20%20%20%20%20%20%20left%3A%200.0%25%3B%0A%20%20%20%20%20%20%20%20top%3A%200.0%25%3B%0A%20%20%20%20%20%20%20%20%7D%0A%20%20%20%20%3C/style%3E%0A%3C/head%3E%0A%3Cbody%3E%20%20%20%20%0A%20%20%20%20%0A%20%20%20%20%3Cdiv%20class%3D%22folium-map%22%20id%3D%22map_c0d82ffb778e4cbc985dd6524ba254a0%22%20%3E%3C/div%3E%0A%3C/body%3E%0A%3Cscript%3E%20%20%20%20%0A%20%20%20%20%0A%20%20%20%20%0A%20%20%20%20%20%20%20%20var%20bounds%20%3D%20null%3B%0A%20%20%20%20%0A%0A%20%20%20%20var%20map_c0d82ffb778e4cbc985dd6524ba254a0%20%3D%20L.map%28%0A%20%20%20%20%20%20%20%20%27map_c0d82ffb778e4cbc985dd6524ba254a0%27%2C%20%7B%0A%20%20%20%20%20%20%20%20center%3A%20%5B37.513538%2C%20126.904703%5D%2C%0A%20%20%20%20%20%20%20%20zoom%3A%2014%2C%0A%20%20%20%20%20%20%20%20maxBounds%3A%20bounds%2C%0A%20%20%20%20%20%20%20%20layers%3A%20%5B%5D%2C%0A%20%20%20%20%20%20%20%20worldCopyJump%3A%20false%2C%0A%20%20%20%20%20%20%20%20crs%3A%20L.CRS.EPSG3857%2C%0A%20%20%20%20%20%20%20%20zoomControl%3A%20true%2C%0A%20%20%20%20%20%20%20%20%7D%29%3B%0A%0A%0A%20%20%20%20%0A%20%20%20%20var%20tile_layer_652abfb797f6486095bc19f16157b27e%20%3D%20L.tileLayer%28%0A%20%20%20%20%20%20%20%20%27https%3A//%7Bs%7D.tile.openstreetmap.org/%7Bz%7D/%7Bx%7D/%7By%7D.png%27%2C%0A%20%20%20%20%20%20%20%20%7B%0A%20%20%20%20%20%20%20%20%22attribution%22%3A%20null%2C%0A%20%20%20%20%20%20%20%20%22detectRetina%22%3A%20false%2C%0A%20%20%20%20%20%20%20%20%22maxNativeZoom%22%3A%2018%2C%0A%20%20%20%20%20%20%20%20%22maxZoom%22%3A%2018%2C%0A%20%20%20%20%20%20%20%20%22minZoom%22%3A%200%2C%0A%20%20%20%20%20%20%20%20%22noWrap%22%3A%20false%2C%0A%20%20%20%20%20%20%20%20%22opacity%22%3A%201%2C%0A%20%20%20%20%20%20%20%20%22subdomains%22%3A%20%22abc%22%2C%0A%20%20%20%20%20%20%20%20%22tms%22%3A%20false%0A%7D%29.addTo%28map_c0d82ffb778e4cbc985dd6524ba254a0%29%3B%0A%20%20%20%20%0A%20%20%20%20%20%20%20%20%20%20%20%20var%20choropleth_2f02cb2be54447dd9ac42c264fdea911%20%3D%20L.featureGroup%28%0A%20%20%20%20%20%20%20%20%20%20%20%20%20%20%20%20%29.addTo%28map_c0d82ffb778e4cbc985dd6524ba254a0%29%3B%0A%20%20%20%20%20%20%20%20%0A%20%20%20%20%0A%20%20%20%20%20%20%20%20var%20geo_json_798fa874eb2d48328426257b57896585%20%3D%20L.geoJson%28%0A%20%20%20%20%20%20%20%20%20%20%20%20%7B%22bbox%22%3A%20%5B126.87947300173846%2C%2037.484986282537186%2C%20126.95040239303732%2C%2037.55017183813918%5D%2C%20%22features%22%3A%20%5B%7B%22bbox%22%3A%20%5B126.90771292525608%2C%2037.51565431547159%2C%20126.95040239303732%2C%2037.54166765894863%5D%2C%20%22geometry%22%3A%20%7B%22coordinates%22%3A%20%5B%5B%5B%5B126.91451019650998%2C%2037.5401559327253%5D%2C%20%5B126.92546541748976%2C%2037.537822304766586%5D%2C%20%5B126.92564614217332%2C%2037.53778037073113%5D%2C%20%5B126.9279153706955%2C%2037.53725620986841%5D%2C%20%5B126.92862830535229%2C%2037.53709178525237%5D%2C%20%5B126.92889075246677%2C%2037.53703161884062%5D%2C%20%5B126.92922996238066%2C%2037.53695385900097%5D%2C%20%5B126.9296652962672%2C%2037.53689705915932%5D%2C%20%5B126.93123326685811%2C%2037.536694246628976%5D%2C%20%5B126.9340062933555%2C%2037.5363358075863%5D%2C%20%5B126.93708758240557%2C%2037.53430558366682%5D%2C%20%5B126.94357043557476%2C%2037.52941828315848%5D%2C%20%5B126.9463376417002%2C%2037.527333480013475%5D%2C%20%5B126.9467095221252%2C%2037.52705008388216%5D%2C%20%5B126.94741998814696%2C%2037.52585911923522%5D%2C%20%5B126.94771649984754%2C%2037.52536025593309%5D%2C%20%5B126.94794108601835%2C%2037.5235822624062%5D%2C%20%5B126.94961536972205%2C%2037.52116318540099%5D%2C%20%5B126.95040239303732%2C%2037.52002668967632%5D%2C%20%5B126.94563418584282%2C%2037.518662465844415%5D%2C%20%5B126.94296317470703%2C%2037.517764319641564%5D%2C%20%5B126.93963220166471%2C%2037.51700745173674%5D%2C%20%5B126.93848220559975%2C%2037.51678990985248%5D%2C%20%5B126.93303865739301%2C%2037.51576455353616%5D%2C%20%5B126.93215344902042%2C%2037.51565431547159%5D%2C%20%5B126.92601116467537%2C%2037.51609788418518%5D%2C%20%5B126.92524965640317%2C%2037.516237314860376%5D%2C%20%5B126.92511216052525%2C%2037.51628731702502%5D%2C%20%5B126.92018571965666%2C%2037.518092981035814%5D%2C%20%5B126.91984970618594%2C%2037.51821646569524%5D%2C%20%5B126.91974100000623%2C%2037.51825642040491%5D%2C%20%5B126.91915188668065%2C%2037.51852618358289%5D%2C%20%5B126.9183092943833%2C%2037.5189130521549%5D%2C%20%5B126.91818070274996%2C%2037.51899686639826%5D%2C%20%5B126.91762620185762%2C%2037.51936030762002%5D%2C%20%5B126.91749192129649%2C%2037.51944861332825%5D%2C%20%5B126.91719940687875%2C%2037.51958466694874%5D%2C%20%5B126.91664744531634%2C%2037.51989403495129%5D%2C%20%5B126.91601519005386%2C%2037.520342712813935%5D%2C%20%5B126.91582262450869%2C%2037.52063807885018%5D%2C%20%5B126.91522770688535%2C%2037.521551197826085%5D%2C%20%5B126.91369058749481%2C%2037.523749568550514%5D%2C%20%5B126.91338303042477%2C%2037.52416835015541%5D%2C%20%5B126.91320073649011%2C%2037.524416576069264%5D%2C%20%5B126.91270698159735%2C%2037.52516092855558%5D%2C%20%5B126.91197898228131%2C%2037.526259293477295%5D%2C%20%5B126.91162874220848%2C%2037.52735384872477%5D%2C%20%5B126.90970467526883%2C%2037.53337527100945%5D%2C%20%5B126.90942111266504%2C%2037.53426257889487%5D%2C%20%5B126.9083636117838%2C%2037.53757223866262%5D%2C%20%5B126.90800274386%2C%2037.539156559729214%5D%2C%20%5B126.90782274340097%2C%2037.53994683352055%5D%2C%20%5B126.90775900558761%2C%2037.54094551386675%5D%2C%20%5B126.90771292525608%2C%2037.54166765894863%5D%2C%20%5B126.91451019650998%2C%2037.5401559327253%5D%5D%5D%5D%2C%20%22type%22%3A%20%22MultiPolygon%22%7D%2C%20%22id%22%3A%20%22285%22%2C%20%22properties%22%3A%20%7B%22OBJECTID%22%3A%20286%2C%20%22adm_cd%22%3A%20%221119054%22%2C%20%22adm_cd2%22%3A%20%221156054000%22%2C%20%22adm_nm%22%3A%20%22%5Cuc11c%5Cuc6b8%5Cud2b9%5Cubcc4%5Cuc2dc%20%5Cuc601%5Cub4f1%5Cud3ec%5Cuad6c%20%5Cuc5ec%5Cuc758%5Cub3d9%22%2C%20%22highlight%22%3A%20%7B%7D%2C%20%22sgg%22%3A%20%2211560%22%2C%20%22sggnm%22%3A%20%22%5Cuc601%5Cub4f1%5Cud3ec%5Cuad6c%22%2C%20%22sido%22%3A%20%2211%22%2C%20%22sidonm%22%3A%20%22%5Cuc11c%5Cuc6b8%5Cud2b9%5Cubcc4%5Cuc2dc%22%2C%20%22style%22%3A%20%7B%22color%22%3A%20%22black%22%2C%20%22fillColor%22%3A%20%22YlGnBu%22%2C%20%22fillOpacity%22%3A%200.6%2C%20%22opacity%22%3A%201%2C%20%22weight%22%3A%201%7D%7D%2C%20%22type%22%3A%20%22Feature%22%7D%2C%20%7B%22bbox%22%3A%20%5B126.89138061718477%2C%2037.51903765833564%2C%20126.90283572959682%2C%2037.52921334658074%5D%2C%20%22geometry%22%3A%20%7B%22coordinates%22%3A%20%5B%5B%5B%5B126.90283572959682%2C%2037.52612206788627%5D%2C%20%5B126.90223047620556%2C%2037.52449882926128%5D%2C%20%5B126.90220783088431%2C%2037.5244378374517%5D%2C%20%5B126.90213492075627%2C%2037.52424146077694%5D%2C%20%5B126.90100417884365%2C%2037.520406117757226%5D%2C%20%5B126.90097427692059%2C%2037.52016598147088%5D%2C%20%5B126.90097478001445%2C%2037.52013419338181%5D%2C%20%5B126.9009756720509%2C%2037.520079233537416%5D%2C%20%5B126.9009789163053%2C%2037.519939540623376%5D%2C%20%5B126.9009830232993%2C%2037.519867453390965%5D%2C%20%5B126.90100965527547%2C%2037.51945634714975%5D%2C%20%5B126.90107471986897%2C%2037.51910289689202%5D%2C%20%5B126.90108727544643%2C%2037.51906393206647%5D%2C%20%5B126.90109575758922%2C%2037.51903765833564%5D%2C%20%5B126.90059445649919%2C%2037.51928298404577%5D%2C%20%5B126.90045906455806%2C%2037.51932173094196%5D%2C%20%5B126.9002861832717%2C%2037.51936028732841%5D%2C%20%5B126.89969031742075%2C%2037.51949133612784%5D%2C%20%5B126.89861717588147%2C%2037.51969544078326%5D%2C%20%5B126.8922546215421%2C%2037.52073773343493%5D%2C%20%5B126.89138061718477%2C%2037.521933155158706%5D%2C%20%5B126.89151951807024%2C%2037.52259636222462%5D%2C%20%5B126.89155424715315%2C%2037.52276103751324%5D%2C%20%5B126.89164095471351%2C%2037.523119392206695%5D%2C%20%5B126.89263495021694%2C%2037.527217014033766%5D%2C%20%5B126.89282281254695%2C%2037.52751318995655%5D%2C%20%5B126.89297122571355%2C%2037.52770434490351%5D%2C%20%5B126.89414529897023%2C%2037.52921334658074%5D%2C%20%5B126.89659864288642%2C%2037.5280361540575%5D%2C%20%5B126.89719571540647%2C%2037.52776429162134%5D%2C%20%5B126.89723263181087%2C%2037.527747579744826%5D%2C%20%5B126.90283572959682%2C%2037.52612206788627%5D%5D%5D%5D%2C%20%22type%22%3A%20%22MultiPolygon%22%7D%2C%20%22id%22%3A%20%22286%22%2C%20%22properties%22%3A%20%7B%22OBJECTID%22%3A%20287%2C%20%22adm_cd%22%3A%20%221119055%22%2C%20%22adm_cd2%22%3A%20%221156055000%22%2C%20%22adm_nm%22%3A%20%22%5Cuc11c%5Cuc6b8%5Cud2b9%5Cubcc4%5Cuc2dc%20%5Cuc601%5Cub4f1%5Cud3ec%5Cuad6c%20%5Cub2f9%5Cuc0b01%5Cub3d9%22%2C%20%22highlight%22%3A%20%7B%7D%2C%20%22sgg%22%3A%20%2211560%22%2C%20%22sggnm%22%3A%20%22%5Cuc601%5Cub4f1%5Cud3ec%5Cuad6c%22%2C%20%22sido%22%3A%20%2211%22%2C%20%22sidonm%22%3A%20%22%5Cuc11c%5Cuc6b8%5Cud2b9%5Cubcc4%5Cuc2dc%22%2C%20%22style%22%3A%20%7B%22color%22%3A%20%22black%22%2C%20%22fillColor%22%3A%20%22YlGnBu%22%2C%20%22fillOpacity%22%3A%200.6%2C%20%22opacity%22%3A%201%2C%20%22weight%22%3A%201%7D%7D%2C%20%22type%22%3A%20%22Feature%22%7D%2C%20%7B%22bbox%22%3A%20%5B126.89414529897023%2C%2037.524090543527365%2C%20126.91320073649011%2C%2037.542841457071404%5D%2C%20%22geometry%22%3A%20%7B%22coordinates%22%3A%20%5B%5B%5B%5B126.90771292525608%2C%2037.54166765894863%5D%2C%20%5B126.90775900558761%2C%2037.54094551386675%5D%2C%20%5B126.90782274340097%2C%2037.53994683352055%5D%2C%20%5B126.90800274386%2C%2037.539156559729214%5D%2C%20%5B126.9083636117838%2C%2037.53757223866262%5D%2C%20%5B126.90942111266504%2C%2037.53426257889487%5D%2C%20%5B126.90970467526883%2C%2037.53337527100945%5D%2C%20%5B126.91162874220848%2C%2037.52735384872477%5D%2C%20%5B126.91197898228131%2C%2037.526259293477295%5D%2C%20%5B126.91270698159735%2C%2037.52516092855558%5D%2C%20%5B126.91320073649011%2C%2037.524416576069264%5D%2C%20%5B126.91247417404016%2C%2037.524090543527365%5D%2C%20%5B126.91193734105555%2C%2037.52499034894823%5D%2C%20%5B126.9114271577701%2C%2037.52584702876177%5D%2C%20%5B126.91139547363058%2C%2037.52590023079339%5D%2C%20%5B126.91031269581538%2C%2037.52632976688082%5D%2C%20%5B126.9088946517583%2C%2037.526130014303135%5D%2C%20%5B126.90849273723472%2C%2037.52601128615523%5D%2C%20%5B126.90825192526204%2C%2037.525921738467964%5D%2C%20%5B126.90802491369564%2C%2037.52582708571519%5D%2C%20%5B126.90795094439875%2C%2037.525788407540176%5D%2C%20%5B126.90780716428799%2C%2037.52572346727102%5D%2C%20%5B126.90745677542209%2C%2037.52558210597151%5D%2C%20%5B126.90701292928135%2C%2037.52567096688651%5D%2C%20%5B126.90690144379754%2C%2037.52594538465261%5D%2C%20%5B126.90683141465462%2C%2037.526119507285514%5D%2C%20%5B126.90680331509844%2C%2037.526189383024025%5D%2C%20%5B126.90662358490093%2C%2037.5267337969%5D%2C%20%5B126.90650854445552%2C%2037.5272379757074%5D%2C%20%5B126.90647409003267%2C%2037.52738990535043%5D%2C%20%5B126.90643273071983%2C%2037.527610528201244%5D%2C%20%5B126.90640097369939%2C%2037.527780498365914%5D%2C%20%5B126.90639284207823%2C%2037.528092549860375%5D%2C%20%5B126.90638862891892%2C%2037.52826716519907%5D%2C%20%5B126.9065076392352%2C%2037.532079462952005%5D%2C%20%5B126.90640085372681%2C%2037.532349179559446%5D%2C%20%5B126.90546634085044%2C%2037.532149239983006%5D%2C%20%5B126.90543868691286%2C%2037.532095374942195%5D%2C%20%5B126.90523951399334%2C%2037.53170003175386%5D%2C%20%5B126.90517440896414%2C%2037.531563627159045%5D%2C%20%5B126.90504816309293%2C%2037.53129909418516%5D%2C%20%5B126.90501754983207%2C%2037.53123471882076%5D%2C%20%5B126.90486674474309%2C%2037.53091751324323%5D%2C%20%5B126.90283572959682%2C%2037.52612206788627%5D%2C%20%5B126.89723263181087%2C%2037.527747579744826%5D%2C%20%5B126.89719571540647%2C%2037.52776429162134%5D%2C%20%5B126.89659864288642%2C%2037.5280361540575%5D%2C%20%5B126.89414529897023%2C%2037.52921334658074%5D%2C%20%5B126.89477938681065%2C%2037.53004530266876%5D%2C%20%5B126.89893430529402%2C%2037.53535919585763%5D%2C%20%5B126.90031095848936%2C%2037.53702799176335%5D%2C%20%5B126.90051030124512%2C%2037.53731292858716%5D%2C%20%5B126.90203628441806%2C%2037.539699097658215%5D%2C%20%5B126.90404587231853%2C%2037.542841457071404%5D%2C%20%5B126.90771292525608%2C%2037.54166765894863%5D%5D%5D%5D%2C%20%22type%22%3A%20%22MultiPolygon%22%7D%2C%20%22id%22%3A%20%22287%22%2C%20%22properties%22%3A%20%7B%22OBJECTID%22%3A%20288%2C%20%22adm_cd%22%3A%20%221119056%22%2C%20%22adm_cd2%22%3A%20%221156056000%22%2C%20%22adm_nm%22%3A%20%22%5Cuc11c%5Cuc6b8%5Cud2b9%5Cubcc4%5Cuc2dc%20%5Cuc601%5Cub4f1%5Cud3ec%5Cuad6c%20%5Cub2f9%5Cuc0b02%5Cub3d9%22%2C%20%22highlight%22%3A%20%7B%7D%2C%20%22sgg%22%3A%20%2211560%22%2C%20%22sggnm%22%3A%20%22%5Cuc601%5Cub4f1%5Cud3ec%5Cuad6c%22%2C%20%22sido%22%3A%20%2211%22%2C%20%22sidonm%22%3A%20%22%5Cuc11c%5Cuc6b8%5Cud2b9%5Cubcc4%5Cuc2dc%22%2C%20%22style%22%3A%20%7B%22color%22%3A%20%22black%22%2C%20%22fillColor%22%3A%20%22YlGnBu%22%2C%20%22fillOpacity%22%3A%200.6%2C%20%22opacity%22%3A%201%2C%20%22weight%22%3A%201%7D%7D%2C%20%22type%22%3A%20%22Feature%22%7D%2C%20%7B%22bbox%22%3A%20%5B126.8798054802541%2C%2037.52058756127729%2C%20126.89414529897023%2C%2037.53072097060306%5D%2C%20%22geometry%22%3A%20%7B%22coordinates%22%3A%20%5B%5B%5B%5B126.89004358159242%2C%2037.530379718461255%5D%2C%20%5B126.89414529897023%2C%2037.52921334658074%5D%2C%20%5B126.89297122571355%2C%2037.52770434490351%5D%2C%20%5B126.89282281254695%2C%2037.52751318995655%5D%2C%20%5B126.89263495021694%2C%2037.527217014033766%5D%2C%20%5B126.89164095471351%2C%2037.523119392206695%5D%2C%20%5B126.89155424715315%2C%2037.52276103751324%5D%2C%20%5B126.89151951807024%2C%2037.52259636222462%5D%2C%20%5B126.89138061718477%2C%2037.521933155158706%5D%2C%20%5B126.8922546215421%2C%2037.52073773343493%5D%2C%20%5B126.89105495962188%2C%2037.52083858859032%5D%2C%20%5B126.8899932115594%2C%2037.5210280264818%5D%2C%20%5B126.88535919467645%2C%2037.52179268230676%5D%2C%20%5B126.88519576714643%2C%2037.52136707056947%5D%2C%20%5B126.88500978412162%2C%2037.52058756127729%5D%2C%20%5B126.88377978347222%2C%2037.520765926852484%5D%2C%20%5B126.88374209949636%2C%2037.52077145380079%5D%2C%20%5B126.88340164027969%2C%2037.52082141432597%5D%2C%20%5B126.88179972544712%2C%2037.52106992496812%5D%2C%20%5B126.8798054802541%2C%2037.52138057002454%5D%2C%20%5B126.87982275801964%2C%2037.52219530320007%5D%2C%20%5B126.88027658080554%2C%2037.524363134892795%5D%2C%20%5B126.88048831689305%2C%2037.525147347820514%5D%2C%20%5B126.88050992950697%2C%2037.525226275154424%5D%2C%20%5B126.8813723376457%2C%2037.52599945718262%5D%2C%20%5B126.88173189077852%2C%2037.52632158032201%5D%2C%20%5B126.88475648543623%2C%2037.52740382490448%5D%2C%20%5B126.88534609620872%2C%2037.52761420531861%5D%2C%20%5B126.88602966865213%2C%2037.527925346388955%5D%2C%20%5B126.88631437199689%2C%2037.52805526839077%5D%2C%20%5B126.88658603139409%2C%2037.5283090574286%5D%2C%20%5B126.88695596482054%2C%2037.528656871865266%5D%2C%20%5B126.88705398511635%2C%2037.5287801894297%5D%2C%20%5B126.88760778036402%2C%2037.52947935348697%5D%2C%20%5B126.88848190090214%2C%2037.53072097060306%5D%2C%20%5B126.89004358159242%2C%2037.530379718461255%5D%5D%5D%5D%2C%20%22type%22%3A%20%22MultiPolygon%22%7D%2C%20%22id%22%3A%20%22288%22%2C%20%22properties%22%3A%20%7B%22OBJECTID%22%3A%20289%2C%20%22adm_cd%22%3A%20%221119061%22%2C%20%22adm_cd2%22%3A%20%221156061000%22%2C%20%22adm_nm%22%3A%20%22%5Cuc11c%5Cuc6b8%5Cud2b9%5Cubcc4%5Cuc2dc%20%5Cuc601%5Cub4f1%5Cud3ec%5Cuad6c%20%5Cuc591%5Cud3c91%5Cub3d9%22%2C%20%22highlight%22%3A%20%7B%7D%2C%20%22sgg%22%3A%20%2211560%22%2C%20%22sggnm%22%3A%20%22%5Cuc601%5Cub4f1%5Cud3ec%5Cuad6c%22%2C%20%22sido%22%3A%20%2211%22%2C%20%22sidonm%22%3A%20%22%5Cuc11c%5Cuc6b8%5Cud2b9%5Cubcc4%5Cuc2dc%22%2C%20%22style%22%3A%20%7B%22color%22%3A%20%22black%22%2C%20%22fillColor%22%3A%20%22YlGnBu%22%2C%20%22fillOpacity%22%3A%200.6%2C%20%22opacity%22%3A%201%2C%20%22weight%22%3A%201%7D%7D%2C%20%22type%22%3A%20%22Feature%22%7D%2C%20%7B%22bbox%22%3A%20%5B126.8852754472667%2C%2037.52921334658074%2C%20126.90404587231853%2C%2037.55017183813918%5D%2C%20%22geometry%22%3A%20%7B%22coordinates%22%3A%20%5B%5B%5B%5B126.89675635222676%2C%2037.54631737308834%5D%2C%20%5B126.8984062718841%2C%2037.545408125139176%5D%2C%20%5B126.89892378870928%2C%2037.54512292456586%5D%2C%20%5B126.89927627184578%2C%2037.544928675383126%5D%2C%20%5B126.90071815198819%2C%2037.544134929887285%5D%2C%20%5B126.90086648790596%2C%2037.544077095066186%5D%2C%20%5B126.90404587231853%2C%2037.542841457071404%5D%2C%20%5B126.90203628441806%2C%2037.539699097658215%5D%2C%20%5B126.90051030124512%2C%2037.53731292858716%5D%2C%20%5B126.90031095848936%2C%2037.53702799176335%5D%2C%20%5B126.89893430529402%2C%2037.53535919585763%5D%2C%20%5B126.89477938681065%2C%2037.53004530266876%5D%2C%20%5B126.89414529897023%2C%2037.52921334658074%5D%2C%20%5B126.89004358159242%2C%2037.530379718461255%5D%2C%20%5B126.89107078179963%2C%2037.53229256696007%5D%2C%20%5B126.89152512323473%2C%2037.53313879629866%5D%2C%20%5B126.89163392016029%2C%2037.53446321210658%5D%2C%20%5B126.89129951638311%2C%2037.53583041215343%5D%2C%20%5B126.88901850707113%2C%2037.54037381656402%5D%2C%20%5B126.88790607869718%2C%2037.54240172409167%5D%2C%20%5B126.88773755870807%2C%2037.54267688337181%5D%2C%20%5B126.88729373008414%2C%2037.54339791197269%5D%2C%20%5B126.88616574426541%2C%2037.543596032857415%5D%2C%20%5B126.88577067311726%2C%2037.54423839161363%5D%2C%20%5B126.88572262194404%2C%2037.54431813614695%5D%2C%20%5B126.8852754472667%2C%2037.54630327749581%5D%2C%20%5B126.88661380374252%2C%2037.547459453767566%5D%2C%20%5B126.88975440070294%2C%2037.55017183813918%5D%2C%20%5B126.89675635222676%2C%2037.54631737308834%5D%5D%5D%5D%2C%20%22type%22%3A%20%22MultiPolygon%22%7D%2C%20%22id%22%3A%20%22289%22%2C%20%22properties%22%3A%20%7B%22OBJECTID%22%3A%20290%2C%20%22adm_cd%22%3A%20%221119062%22%2C%20%22adm_cd2%22%3A%20%221156062000%22%2C%20%22adm_nm%22%3A%20%22%5Cuc11c%5Cuc6b8%5Cud2b9%5Cubcc4%5Cuc2dc%20%5Cuc601%5Cub4f1%5Cud3ec%5Cuad6c%20%5Cuc591%5Cud3c92%5Cub3d9%22%2C%20%22highlight%22%3A%20%7B%7D%2C%20%22sgg%22%3A%20%2211560%22%2C%20%22sggnm%22%3A%20%22%5Cuc601%5Cub4f1%5Cud3ec%5Cuad6c%22%2C%20%22sido%22%3A%20%2211%22%2C%20%22sidonm%22%3A%20%22%5Cuc11c%5Cuc6b8%5Cud2b9%5Cubcc4%5Cuc2dc%22%2C%20%22style%22%3A%20%7B%22color%22%3A%20%22black%22%2C%20%22fillColor%22%3A%20%22YlGnBu%22%2C%20%22fillOpacity%22%3A%200.6%2C%20%22opacity%22%3A%201%2C%20%22weight%22%3A%201%7D%7D%2C%20%22type%22%3A%20%22Feature%22%7D%2C%20%7B%22bbox%22%3A%20%5B126.9137350982683%2C%2037.50564671321752%2C%20126.92601116467537%2C%2037.51944861332825%5D%2C%20%22geometry%22%3A%20%7B%22coordinates%22%3A%20%5B%5B%5B%5B126.92601116467537%2C%2037.51609788418518%5D%2C%20%5B126.92516457138149%2C%2037.51490067462138%5D%2C%20%5B126.92483973756595%2C%2037.51455426821544%5D%2C%20%5B126.92478580541561%2C%2037.514485277440755%5D%2C%20%5B126.92352048412293%2C%2037.512784277037625%5D%2C%20%5B126.92245297818727%2C%2037.51013387955248%5D%2C%20%5B126.9221043336401%2C%2037.50885112600672%5D%2C%20%5B126.9220671164924%2C%2037.50808254014223%5D%2C%20%5B126.92206280631125%2C%2037.508000270549736%5D%2C%20%5B126.92055234094879%2C%2037.50717497694508%5D%2C%20%5B126.91713855519917%2C%2037.50621665884488%5D%2C%20%5B126.91612345378918%2C%2037.50564671321752%5D%2C%20%5B126.91481249281009%2C%2037.50779444330917%5D%2C%20%5B126.9137350982683%2C%2037.51138329319419%5D%2C%20%5B126.9160451850334%2C%2037.511855414365876%5D%2C%20%5B126.91614360469408%2C%2037.51188582581141%5D%2C%20%5B126.91705477056036%2C%2037.51217483913597%5D%2C%20%5B126.91707582796926%2C%2037.51219522349473%5D%2C%20%5B126.91775025007317%2C%2037.51286329753035%5D%2C%20%5B126.9177702608414%2C%2037.51288445627477%5D%2C%20%5B126.9182881774634%2C%2037.513450781612015%5D%2C%20%5B126.91838536628862%2C%2037.51358638197784%5D%2C%20%5B126.91884074583162%2C%2037.514225117106086%5D%2C%20%5B126.91847435641905%2C%2037.514439453560854%5D%2C%20%5B126.91825611341118%2C%2037.514567092860254%5D%2C%20%5B126.91769436145687%2C%2037.51505105493416%5D%2C%20%5B126.91730111070517%2C%2037.51569132892544%5D%2C%20%5B126.91724739268047%2C%2037.515778945727206%5D%2C%20%5B126.91669045713475%2C%2037.51709442379615%5D%2C%20%5B126.91670693991894%2C%2037.51733400339943%5D%2C%20%5B126.91665582271608%2C%2037.517455920168906%5D%2C%20%5B126.91749192129649%2C%2037.51944861332825%5D%2C%20%5B126.91762620185762%2C%2037.51936030762002%5D%2C%20%5B126.91818070274996%2C%2037.51899686639826%5D%2C%20%5B126.9183092943833%2C%2037.5189130521549%5D%2C%20%5B126.91915188668065%2C%2037.51852618358289%5D%2C%20%5B126.91974100000623%2C%2037.51825642040491%5D%2C%20%5B126.91984970618594%2C%2037.51821646569524%5D%2C%20%5B126.92018571965666%2C%2037.518092981035814%5D%2C%20%5B126.92511216052525%2C%2037.51628731702502%5D%2C%20%5B126.92524965640317%2C%2037.516237314860376%5D%2C%20%5B126.92601116467537%2C%2037.51609788418518%5D%5D%5D%5D%2C%20%22type%22%3A%20%22MultiPolygon%22%7D%2C%20%22id%22%3A%20%22290%22%2C%20%22properties%22%3A%20%7B%22OBJECTID%22%3A%20291%2C%20%22adm_cd%22%3A%20%221119063%22%2C%20%22adm_cd2%22%3A%20%221156063000%22%2C%20%22adm_nm%22%3A%20%22%5Cuc11c%5Cuc6b8%5Cud2b9%5Cubcc4%5Cuc2dc%20%5Cuc601%5Cub4f1%5Cud3ec%5Cuad6c%20%5Cuc2e0%5Cuae381%5Cub3d9%22%2C%20%22highlight%22%3A%20%7B%7D%2C%20%22sgg%22%3A%20%2211560%22%2C%20%22sggnm%22%3A%20%22%5Cuc601%5Cub4f1%5Cud3ec%5Cuad6c%22%2C%20%22sido%22%3A%20%2211%22%2C%20%22sidonm%22%3A%20%22%5Cuc11c%5Cuc6b8%5Cud2b9%5Cubcc4%5Cuc2dc%22%2C%20%22style%22%3A%20%7B%22color%22%3A%20%22black%22%2C%20%22fillColor%22%3A%20%22YlGnBu%22%2C%20%22fillOpacity%22%3A%200.6%2C%20%22opacity%22%3A%201%2C%20%22weight%22%3A%201%7D%7D%2C%20%22type%22%3A%20%22Feature%22%7D%2C%20%7B%22bbox%22%3A%20%5B126.89821902246794%2C%2037.503025687499814%2C%20126.91104414953922%2C%2037.510705880231164%5D%2C%20%22geometry%22%3A%20%7B%22coordinates%22%3A%20%5B%5B%5B%5B126.91016015543603%2C%2037.503834641745215%5D%2C%20%5B126.90889681399776%2C%2037.50422594072654%5D%2C%20%5B126.90852497799699%2C%2037.504499014777245%5D%2C%20%5B126.90749914791893%2C%2037.504756445180256%5D%2C%20%5B126.9030485261488%2C%2037.50420565227161%5D%2C%20%5B126.90227051714129%2C%2037.503872724028255%5D%2C%20%5B126.90090662759854%2C%2037.50328554594616%5D%2C%20%5B126.90084710974698%2C%2037.50325033916853%5D%2C%20%5B126.90047951682075%2C%2037.503025687499814%5D%2C%20%5B126.89821902246794%2C%2037.505333752228786%5D%2C%20%5B126.90369311737841%2C%2037.50771179114438%5D%2C%20%5B126.90433154556446%2C%2037.50799555844521%5D%2C%20%5B126.90952267038624%2C%2037.51034486044726%5D%2C%20%5B126.9096888683452%2C%2037.510421111844636%5D%2C%20%5B126.91029490131251%2C%2037.510705880231164%5D%2C%20%5B126.91068553820726%2C%2037.50968254030528%5D%2C%20%5B126.91089138201004%2C%2037.508865589445534%5D%2C%20%5B126.91089604785036%2C%2037.50881783290131%5D%2C%20%5B126.91096859957578%2C%2037.508037856524%5D%2C%20%5B126.91097651074313%2C%2037.50784072410077%5D%2C%20%5B126.91104414953922%2C%2037.5060721566807%5D%2C%20%5B126.91103872276977%2C%2037.50604283564032%5D%2C%20%5B126.91101602717276%2C%2037.50592090457645%5D%2C%20%5B126.9110013456633%2C%2037.505846330912114%5D%2C%20%5B126.91099603421685%2C%2037.50581976047289%5D%2C%20%5B126.91076583481545%2C%2037.50530865639325%5D%2C%20%5B126.91075262155788%2C%2037.5052796570362%5D%2C%20%5B126.91063371404036%2C%2037.50503017219238%5D%2C%20%5B126.91016015543603%2C%2037.503834641745215%5D%5D%5D%5D%2C%20%22type%22%3A%20%22MultiPolygon%22%7D%2C%20%22id%22%3A%20%22291%22%2C%20%22properties%22%3A%20%7B%22OBJECTID%22%3A%20292%2C%20%22adm_cd%22%3A%20%221119065%22%2C%20%22adm_cd2%22%3A%20%221156065000%22%2C%20%22adm_nm%22%3A%20%22%5Cuc11c%5Cuc6b8%5Cud2b9%5Cubcc4%5Cuc2dc%20%5Cuc601%5Cub4f1%5Cud3ec%5Cuad6c%20%5Cuc2e0%5Cuae383%5Cub3d9%22%2C%20%22highlight%22%3A%20%7B%7D%2C%20%22sgg%22%3A%20%2211560%22%2C%20%22sggnm%22%3A%20%22%5Cuc601%5Cub4f1%5Cud3ec%5Cuad6c%22%2C%20%22sido%22%3A%20%2211%22%2C%20%22sidonm%22%3A%20%22%5Cuc11c%5Cuc6b8%5Cud2b9%5Cubcc4%5Cuc2dc%22%2C%20%22style%22%3A%20%7B%22color%22%3A%20%22black%22%2C%20%22fillColor%22%3A%20%22YlGnBu%22%2C%20%22fillOpacity%22%3A%200.6%2C%20%22opacity%22%3A%201%2C%20%22weight%22%3A%201%7D%7D%2C%20%22type%22%3A%20%22Feature%22%7D%2C%20%7B%22bbox%22%3A%20%5B126.91016015543603%2C%2037.503619645582475%2C%20126.91612345378918%2C%2037.51138329319419%5D%2C%20%22geometry%22%3A%20%7B%22coordinates%22%3A%20%5B%5B%5B%5B126.91612345378918%2C%2037.50564671321752%5D%2C%20%5B126.91545440395811%2C%2037.50419334070578%5D%2C%20%5B126.91307236704232%2C%2037.50424799752961%5D%2C%20%5B126.91293896658645%2C%2037.50430704930148%5D%2C%20%5B126.91274357634894%2C%2037.50428278709695%5D%2C%20%5B126.91152593520273%2C%2037.50406228624786%5D%2C%20%5B126.91135544762913%2C%2037.503955077057405%5D%2C%20%5B126.91133537954855%2C%2037.50393267035134%5D%2C%20%5B126.9112678337293%2C%2037.50381805469882%5D%2C%20%5B126.91116796126235%2C%2037.50386488246546%5D%2C%20%5B126.9111307560677%2C%2037.503877768427856%5D%2C%20%5B126.91100835187271%2C%2037.50383082768133%5D%2C%20%5B126.9109284798956%2C%2037.50386355324162%5D%2C%20%5B126.91086897419717%2C%2037.50377689778735%5D%2C%20%5B126.91080311740647%2C%2037.50380968414781%5D%2C%20%5B126.91076528515974%2C%2037.50379654298528%5D%2C%20%5B126.91072413569573%2C%2037.503782249556885%5D%2C%20%5B126.91066032472754%2C%2037.50369639455453%5D%2C%20%5B126.91058374022563%2C%2037.50374211487506%5D%2C%20%5B126.91038212109707%2C%2037.50374036955639%5D%2C%20%5B126.91038785435357%2C%2037.503696139006436%5D%2C%20%5B126.91040216138478%2C%2037.503633046259296%5D%2C%20%5B126.91021559684786%2C%2037.503619645582475%5D%2C%20%5B126.91016015543603%2C%2037.503834641745215%5D%2C%20%5B126.91063371404036%2C%2037.50503017219238%5D%2C%20%5B126.91075262155788%2C%2037.5052796570362%5D%2C%20%5B126.91076583481545%2C%2037.50530865639325%5D%2C%20%5B126.91099603421685%2C%2037.50581976047289%5D%2C%20%5B126.9110013456633%2C%2037.505846330912114%5D%2C%20%5B126.91101602717276%2C%2037.50592090457645%5D%2C%20%5B126.91103872276977%2C%2037.50604283564032%5D%2C%20%5B126.91104414953922%2C%2037.5060721566807%5D%2C%20%5B126.91097651074313%2C%2037.50784072410077%5D%2C%20%5B126.91096859957578%2C%2037.508037856524%5D%2C%20%5B126.91089604785036%2C%2037.50881783290131%5D%2C%20%5B126.91089138201004%2C%2037.508865589445534%5D%2C%20%5B126.91068553820726%2C%2037.50968254030528%5D%2C%20%5B126.91029490131251%2C%2037.510705880231164%5D%2C%20%5B126.9137350982683%2C%2037.51138329319419%5D%2C%20%5B126.91481249281009%2C%2037.50779444330917%5D%2C%20%5B126.91612345378918%2C%2037.50564671321752%5D%5D%5D%5D%2C%20%22type%22%3A%20%22MultiPolygon%22%7D%2C%20%22id%22%3A%20%22292%22%2C%20%22properties%22%3A%20%7B%22OBJECTID%22%3A%20293%2C%20%22adm_cd%22%3A%20%221119066%22%2C%20%22adm_cd2%22%3A%20%221156066000%22%2C%20%22adm_nm%22%3A%20%22%5Cuc11c%5Cuc6b8%5Cud2b9%5Cubcc4%5Cuc2dc%20%5Cuc601%5Cub4f1%5Cud3ec%5Cuad6c%20%5Cuc2e0%5Cuae384%5Cub3d9%22%2C%20%22highlight%22%3A%20%7B%7D%2C%20%22sgg%22%3A%20%2211560%22%2C%20%22sggnm%22%3A%20%22%5Cuc601%5Cub4f1%5Cud3ec%5Cuad6c%22%2C%20%22sido%22%3A%20%2211%22%2C%20%22sidonm%22%3A%20%22%5Cuc11c%5Cuc6b8%5Cud2b9%5Cubcc4%5Cuc2dc%22%2C%20%22style%22%3A%20%7B%22color%22%3A%20%22black%22%2C%20%22fillColor%22%3A%20%22YlGnBu%22%2C%20%22fillOpacity%22%3A%200.6%2C%20%22opacity%22%3A%201%2C%20%22weight%22%3A%201%7D%7D%2C%20%22type%22%3A%20%22Feature%22%7D%2C%20%7B%22bbox%22%3A%20%5B126.90047951682075%2C%2037.49715231306775%2C%20126.91028883783189%2C%2037.504756445180256%5D%2C%20%22geometry%22%3A%20%7B%22coordinates%22%3A%20%5B%5B%5B%5B126.91016015543603%2C%2037.503834641745215%5D%2C%20%5B126.91021559684786%2C%2037.503619645582475%5D%2C%20%5B126.9102854502869%2C%2037.50318965293621%5D%2C%20%5B126.91028820362538%2C%2037.50283815945679%5D%2C%20%5B126.9102885081377%2C%2037.502756291014414%5D%2C%20%5B126.91028883783189%2C%2037.50266690540605%5D%2C%20%5B126.91025641062124%2C%2037.50202565560364%5D%2C%20%5B126.91019363464126%2C%2037.50191433774388%5D%2C%20%5B126.90990561445332%2C%2037.50140534871536%5D%2C%20%5B126.90981983559821%2C%2037.501253943393024%5D%2C%20%5B126.90939056328614%2C%2037.50072337912472%5D%2C%20%5B126.90918958624258%2C%2037.500475629348365%5D%2C%20%5B126.90904305710009%2C%2037.50031603274473%5D%2C%20%5B126.90890727072087%2C%2037.50025573420705%5D%2C%20%5B126.9087385715851%2C%2037.500180820272725%5D%2C%20%5B126.90826470279734%2C%2037.49842632397421%5D%2C%20%5B126.90816886441901%2C%2037.497927573362645%5D%2C%20%5B126.90816629252843%2C%2037.497447571206145%5D%2C%20%5B126.90728508751522%2C%2037.49715231306775%5D%2C%20%5B126.90374416532362%2C%2037.49729127531359%5D%2C%20%5B126.90370728335179%2C%2037.497305736157706%5D%2C%20%5B126.9036292503098%2C%2037.49733801633794%5D%2C%20%5B126.90312761062879%2C%2037.497558567993416%5D%2C%20%5B126.90256912061928%2C%2037.497990649134536%5D%2C%20%5B126.90213688905258%2C%2037.49836035659004%5D%2C%20%5B126.90209204884023%2C%2037.49839947825559%5D%2C%20%5B126.90205866926202%2C%2037.49842860331001%5D%2C%20%5B126.90197024385812%2C%2037.4985196791846%5D%2C%20%5B126.90191608420271%2C%2037.4985754782263%5D%2C%20%5B126.9017043255306%2C%2037.49879523765296%5D%2C%20%5B126.90116932877295%2C%2037.49938291365617%5D%2C%20%5B126.9010152127821%2C%2037.49968971930335%5D%2C%20%5B126.90102499053111%2C%2037.49974598541952%5D%2C%20%5B126.90109402974146%2C%2037.49982532200198%5D%2C%20%5B126.9013112820299%2C%2037.50006866209731%5D%2C%20%5B126.90138587363606%2C%2037.50015192410091%5D%2C%20%5B126.90142025490378%2C%2037.50019089709636%5D%2C%20%5B126.90145081828024%2C%2037.500253496851656%5D%2C%20%5B126.9016174914673%2C%2037.50048200158637%5D%2C%20%5B126.90165721051356%2C%2037.50053573868399%5D%2C%20%5B126.9017258553186%2C%2037.50070509018898%5D%2C%20%5B126.90174950756874%2C%2037.500749565593054%5D%2C%20%5B126.90177396250226%2C%2037.500795534093456%5D%2C%20%5B126.9018686955123%2C%2037.500970703363016%5D%2C%20%5B126.90189307853049%2C%2037.50101577733057%5D%2C%20%5B126.9020244071995%2C%2037.50121699339697%5D%2C%20%5B126.90217561924551%2C%2037.50143222413777%5D%2C%20%5B126.90133250320682%2C%2037.5022376509248%5D%2C%20%5B126.90120640944139%2C%2037.5023541877583%5D%2C%20%5B126.90047951682075%2C%2037.503025687499814%5D%2C%20%5B126.90084710974698%2C%2037.50325033916853%5D%2C%20%5B126.90090662759854%2C%2037.50328554594616%5D%2C%20%5B126.90227051714129%2C%2037.503872724028255%5D%2C%20%5B126.9030485261488%2C%2037.50420565227161%5D%2C%20%5B126.90749914791893%2C%2037.504756445180256%5D%2C%20%5B126.90852497799699%2C%2037.504499014777245%5D%2C%20%5B126.90889681399776%2C%2037.50422594072654%5D%2C%20%5B126.91016015543603%2C%2037.503834641745215%5D%5D%5D%5D%2C%20%22type%22%3A%20%22MultiPolygon%22%7D%2C%20%22id%22%3A%20%22293%22%2C%20%22properties%22%3A%20%7B%22OBJECTID%22%3A%20294%2C%20%22adm_cd%22%3A%20%221119067%22%2C%20%22adm_cd2%22%3A%20%221156067000%22%2C%20%22adm_nm%22%3A%20%22%5Cuc11c%5Cuc6b8%5Cud2b9%5Cubcc4%5Cuc2dc%20%5Cuc601%5Cub4f1%5Cud3ec%5Cuad6c%20%5Cuc2e0%5Cuae385%5Cub3d9%22%2C%20%22highlight%22%3A%20%7B%7D%2C%20%22sgg%22%3A%20%2211560%22%2C%20%22sggnm%22%3A%20%22%5Cuc601%5Cub4f1%5Cud3ec%5Cuad6c%22%2C%20%22sido%22%3A%20%2211%22%2C%20%22sidonm%22%3A%20%22%5Cuc11c%5Cuc6b8%5Cud2b9%5Cubcc4%5Cuc2dc%22%2C%20%22style%22%3A%20%7B%22color%22%3A%20%22black%22%2C%20%22fillColor%22%3A%20%22YlGnBu%22%2C%20%22fillOpacity%22%3A%200.6%2C%20%22opacity%22%3A%201%2C%20%22weight%22%3A%201%7D%7D%2C%20%22type%22%3A%20%22Feature%22%7D%2C%20%7B%22bbox%22%3A%20%5B126.90816629252843%2C%2037.49258677822099%2C%20126.92082676829817%2C%2037.50430704930148%5D%2C%20%22geometry%22%3A%20%7B%22coordinates%22%3A%20%5B%5B%5B%5B126.91545440395811%2C%2037.50419334070578%5D%2C%20%5B126.91510241531593%2C%2037.50371155353374%5D%2C%20%5B126.91494714434397%2C%2037.50349903405191%5D%2C%20%5B126.91467357830028%2C%2037.503124743642665%5D%2C%20%5B126.91446508414393%2C%2037.50283978385922%5D%2C%20%5B126.9135496728914%2C%2037.50176263148781%5D%2C%20%5B126.91330217437518%2C%2037.501628452776856%5D%2C%20%5B126.91296268834664%2C%2037.50150339333429%5D%2C%20%5B126.91291086709263%2C%2037.501484545367134%5D%2C%20%5B126.91263408208462%2C%2037.50125332413559%5D%2C%20%5B126.9121782003177%2C%2037.50074217897365%5D%2C%20%5B126.91214132736832%2C%2037.50069992027042%5D%2C%20%5B126.91210997790323%2C%2037.50066167302993%5D%2C%20%5B126.91202298802251%2C%2037.500552861247726%5D%2C%20%5B126.91185255960569%2C%2037.500284986645404%5D%2C%20%5B126.91184933679807%2C%2037.50024440965966%5D%2C%20%5B126.91184282360733%2C%2037.500157593043404%5D%2C%20%5B126.91500729639716%2C%2037.50027530100363%5D%2C%20%5B126.91555473934812%2C%2037.50030621144414%5D%2C%20%5B126.91660355837067%2C%2037.50109159647411%5D%2C%20%5B126.9174167801789%2C%2037.50180993319305%5D%2C%20%5B126.91748847746973%2C%2037.50184450217757%5D%2C%20%5B126.91759960035967%2C%2037.5018975900365%5D%2C%20%5B126.92026122238437%2C%2037.5015659146227%5D%2C%20%5B126.92082676829817%2C%2037.50139855007434%5D%2C%20%5B126.92023039338308%2C%2037.498511298814876%5D%2C%20%5B126.92018824645159%2C%2037.498201251224245%5D%2C%20%5B126.91981202498347%2C%2037.49782179042868%5D%2C%20%5B126.9197280028735%2C%2037.49773704696691%5D%2C%20%5B126.91970774554927%2C%2037.4977167616156%5D%2C%20%5B126.91968449799764%2C%2037.497694018899544%5D%2C%20%5B126.91950740456238%2C%2037.49764724279511%5D%2C%20%5B126.91935850217963%2C%2037.497607914081314%5D%2C%20%5B126.91841013594163%2C%2037.49735988301955%5D%2C%20%5B126.91836712513748%2C%2037.4973495463394%5D%2C%20%5B126.91652398111296%2C%2037.49696074598693%5D%2C%20%5B126.91603126551121%2C%2037.49685690891885%5D%2C%20%5B126.91579688378928%2C%2037.49681068230968%5D%2C%20%5B126.91523210637958%2C%2037.49669972535928%5D%2C%20%5B126.9151053581724%2C%2037.49667568968694%5D%2C%20%5B126.91504003288352%2C%2037.49666835369033%5D%2C%20%5B126.91454691674026%2C%2037.49661633636193%5D%2C%20%5B126.91423889186764%2C%2037.49658438869048%5D%2C%20%5B126.91377718340709%2C%2037.49653498458179%5D%2C%20%5B126.91276672511353%2C%2037.49641483588878%5D%2C%20%5B126.91252513288332%2C%2037.4963854763693%5D%2C%20%5B126.9120145496433%2C%2037.49603815889036%5D%2C%20%5B126.91181692338026%2C%2037.49590309853991%5D%2C%20%5B126.911710738296%2C%2037.49573919922572%5D%2C%20%5B126.91126229998045%2C%2037.49504864010762%5D%2C%20%5B126.91028729921025%2C%2037.49354918252937%5D%2C%20%5B126.91000966342499%2C%2037.493213681955375%5D%2C%20%5B126.90945108485955%2C%2037.49258677822099%5D%2C%20%5B126.90816629252843%2C%2037.497447571206145%5D%2C%20%5B126.90816886441901%2C%2037.497927573362645%5D%2C%20%5B126.90826470279734%2C%2037.49842632397421%5D%2C%20%5B126.9087385715851%2C%2037.500180820272725%5D%2C%20%5B126.90890727072087%2C%2037.50025573420705%5D%2C%20%5B126.90904305710009%2C%2037.50031603274473%5D%2C%20%5B126.90918958624258%2C%2037.500475629348365%5D%2C%20%5B126.90939056328614%2C%2037.50072337912472%5D%2C%20%5B126.90981983559821%2C%2037.501253943393024%5D%2C%20%5B126.90990561445332%2C%2037.50140534871536%5D%2C%20%5B126.91019363464126%2C%2037.50191433774388%5D%2C%20%5B126.91025641062124%2C%2037.50202565560364%5D%2C%20%5B126.91028883783189%2C%2037.50266690540605%5D%2C%20%5B126.9102885081377%2C%2037.502756291014414%5D%2C%20%5B126.91028820362538%2C%2037.50283815945679%5D%2C%20%5B126.9102854502869%2C%2037.50318965293621%5D%2C%20%5B126.91021559684786%2C%2037.503619645582475%5D%2C%20%5B126.91040216138478%2C%2037.503633046259296%5D%2C%20%5B126.91038785435357%2C%2037.503696139006436%5D%2C%20%5B126.91038212109707%2C%2037.50374036955639%5D%2C%20%5B126.91058374022563%2C%2037.50374211487506%5D%2C%20%5B126.91066032472754%2C%2037.50369639455453%5D%2C%20%5B126.91072413569573%2C%2037.503782249556885%5D%2C%20%5B126.91076528515974%2C%2037.50379654298528%5D%2C%20%5B126.91080311740647%2C%2037.50380968414781%5D%2C%20%5B126.91086897419717%2C%2037.50377689778735%5D%2C%20%5B126.9109284798956%2C%2037.50386355324162%5D%2C%20%5B126.91100835187271%2C%2037.50383082768133%5D%2C%20%5B126.9111307560677%2C%2037.503877768427856%5D%2C%20%5B126.91116796126235%2C%2037.50386488246546%5D%2C%20%5B126.9112678337293%2C%2037.50381805469882%5D%2C%20%5B126.91133537954855%2C%2037.50393267035134%5D%2C%20%5B126.91135544762913%2C%2037.503955077057405%5D%2C%20%5B126.91152593520273%2C%2037.50406228624786%5D%2C%20%5B126.91274357634894%2C%2037.50428278709695%5D%2C%20%5B126.91293896658645%2C%2037.50430704930148%5D%2C%20%5B126.91307236704232%2C%2037.50424799752961%5D%2C%20%5B126.91545440395811%2C%2037.50419334070578%5D%5D%5D%5D%2C%20%22type%22%3A%20%22MultiPolygon%22%7D%2C%20%22id%22%3A%20%22294%22%2C%20%22properties%22%3A%20%7B%22OBJECTID%22%3A%20295%2C%20%22adm_cd%22%3A%20%221119068%22%2C%20%22adm_cd2%22%3A%20%221156068000%22%2C%20%22adm_nm%22%3A%20%22%5Cuc11c%5Cuc6b8%5Cud2b9%5Cubcc4%5Cuc2dc%20%5Cuc601%5Cub4f1%5Cud3ec%5Cuad6c%20%5Cuc2e0%5Cuae386%5Cub3d9%22%2C%20%22highlight%22%3A%20%7B%7D%2C%20%22sgg%22%3A%20%2211560%22%2C%20%22sggnm%22%3A%20%22%5Cuc601%5Cub4f1%5Cud3ec%5Cuad6c%22%2C%20%22sido%22%3A%20%2211%22%2C%20%22sidonm%22%3A%20%22%5Cuc11c%5Cuc6b8%5Cud2b9%5Cubcc4%5Cuc2dc%22%2C%20%22style%22%3A%20%7B%22color%22%3A%20%22black%22%2C%20%22fillColor%22%3A%20%22YlGnBu%22%2C%20%22fillOpacity%22%3A%200.6%2C%20%22opacity%22%3A%201%2C%20%22weight%22%3A%201%7D%7D%2C%20%22type%22%3A%20%22Feature%22%7D%2C%20%7B%22bbox%22%3A%20%5B126.91184282360733%2C%2037.500157593043404%2C%20126.92710411822856%2C%2037.51490067462138%5D%2C%20%22geometry%22%3A%20%7B%22coordinates%22%3A%20%5B%5B%5B%5B126.92082676829817%2C%2037.50139855007434%5D%2C%20%5B126.92026122238437%2C%2037.5015659146227%5D%2C%20%5B126.91759960035967%2C%2037.5018975900365%5D%2C%20%5B126.91748847746973%2C%2037.50184450217757%5D%2C%20%5B126.9174167801789%2C%2037.50180993319305%5D%2C%20%5B126.91660355837067%2C%2037.50109159647411%5D%2C%20%5B126.91555473934812%2C%2037.50030621144414%5D%2C%20%5B126.91500729639716%2C%2037.50027530100363%5D%2C%20%5B126.91184282360733%2C%2037.500157593043404%5D%2C%20%5B126.91184933679807%2C%2037.50024440965966%5D%2C%20%5B126.91185255960569%2C%2037.500284986645404%5D%2C%20%5B126.91202298802251%2C%2037.500552861247726%5D%2C%20%5B126.91210997790323%2C%2037.50066167302993%5D%2C%20%5B126.91214132736832%2C%2037.50069992027042%5D%2C%20%5B126.9121782003177%2C%2037.50074217897365%5D%2C%20%5B126.91263408208462%2C%2037.50125332413559%5D%2C%20%5B126.91291086709263%2C%2037.501484545367134%5D%2C%20%5B126.91296268834664%2C%2037.50150339333429%5D%2C%20%5B126.91330217437518%2C%2037.501628452776856%5D%2C%20%5B126.9135496728914%2C%2037.50176263148781%5D%2C%20%5B126.91446508414393%2C%2037.50283978385922%5D%2C%20%5B126.91467357830028%2C%2037.503124743642665%5D%2C%20%5B126.91494714434397%2C%2037.50349903405191%5D%2C%20%5B126.91510241531593%2C%2037.50371155353374%5D%2C%20%5B126.91545440395811%2C%2037.50419334070578%5D%2C%20%5B126.91612345378918%2C%2037.50564671321752%5D%2C%20%5B126.91713855519917%2C%2037.50621665884488%5D%2C%20%5B126.92055234094879%2C%2037.50717497694508%5D%2C%20%5B126.92206280631125%2C%2037.508000270549736%5D%2C%20%5B126.9220671164924%2C%2037.50808254014223%5D%2C%20%5B126.9221043336401%2C%2037.50885112600672%5D%2C%20%5B126.92245297818727%2C%2037.51013387955248%5D%2C%20%5B126.92352048412293%2C%2037.512784277037625%5D%2C%20%5B126.92478580541561%2C%2037.514485277440755%5D%2C%20%5B126.92483973756595%2C%2037.51455426821544%5D%2C%20%5B126.92516457138149%2C%2037.51490067462138%5D%2C%20%5B126.9269776818079%2C%2037.5139699291985%5D%2C%20%5B126.92706023181192%2C%2037.51392961465067%5D%2C%20%5B126.92710411822856%2C%2037.512999172592735%5D%2C%20%5B126.9268432800945%2C%2037.512890871492665%5D%2C%20%5B126.92644477283056%2C%2037.512752607418264%5D%2C%20%5B126.92641161604298%2C%2037.51274117949563%5D%2C%20%5B126.9258909927848%2C%2037.51266541517891%5D%2C%20%5B126.92584510180521%2C%2037.512659026858614%5D%2C%20%5B126.92575676730117%2C%2037.51264673562878%5D%2C%20%5B126.92539528035735%2C%2037.51265217763108%5D%2C%20%5B126.92529049971229%2C%2037.512398849171056%5D%2C%20%5B126.92382533891431%2C%2037.5086984174329%5D%2C%20%5B126.9220977401347%2C%2037.50438601204345%5D%2C%20%5B126.92197974503932%2C%2037.50409812811345%5D%2C%20%5B126.92153205477202%2C%2037.50300867816128%5D%2C%20%5B126.9213500502244%2C%2037.502565768927646%5D%2C%20%5B126.9211523999763%2C%2037.50208518452841%5D%2C%20%5B126.92111588835154%2C%2037.50200784066267%5D%2C%20%5B126.92108629573514%2C%2037.501945211953355%5D%2C%20%5B126.92091768721%2C%2037.50159002886474%5D%2C%20%5B126.92082676829817%2C%2037.50139855007434%5D%5D%5D%5D%2C%20%22type%22%3A%20%22MultiPolygon%22%7D%2C%20%22id%22%3A%20%22295%22%2C%20%22properties%22%3A%20%7B%22OBJECTID%22%3A%20296%2C%20%22adm_cd%22%3A%20%221119069%22%2C%20%22adm_cd2%22%3A%20%221156069000%22%2C%20%22adm_nm%22%3A%20%22%5Cuc11c%5Cuc6b8%5Cud2b9%5Cubcc4%5Cuc2dc%20%5Cuc601%5Cub4f1%5Cud3ec%5Cuad6c%20%5Cuc2e0%5Cuae387%5Cub3d9%22%2C%20%22highlight%22%3A%20%7B%7D%2C%20%22sgg%22%3A%20%2211560%22%2C%20%22sggnm%22%3A%20%22%5Cuc601%5Cub4f1%5Cud3ec%5Cuad6c%22%2C%20%22sido%22%3A%20%2211%22%2C%20%22sidonm%22%3A%20%22%5Cuc11c%5Cuc6b8%5Cud2b9%5Cubcc4%5Cuc2dc%22%2C%20%22style%22%3A%20%7B%22color%22%3A%20%22black%22%2C%20%22fillColor%22%3A%20%22YlGnBu%22%2C%20%22fillOpacity%22%3A%200.6%2C%20%22opacity%22%3A%201%2C%20%22weight%22%3A%201%7D%7D%2C%20%22type%22%3A%20%22Feature%22%7D%2C%20%7B%22bbox%22%3A%20%5B126.89992730197534%2C%2037.488926320200605%2C%20126.90945108485955%2C%2037.497447571206145%5D%2C%20%22geometry%22%3A%20%7B%22coordinates%22%3A%20%5B%5B%5B%5B126.90945108485955%2C%2037.49258677822099%5D%2C%20%5B126.90633045911946%2C%2037.488926320200605%5D%2C%20%5B126.90192502489629%2C%2037.49240011836713%5D%2C%20%5B126.89992730197534%2C%2037.49483044452124%5D%2C%20%5B126.90374416532362%2C%2037.49729127531359%5D%2C%20%5B126.90728508751522%2C%2037.49715231306775%5D%2C%20%5B126.90816629252843%2C%2037.497447571206145%5D%2C%20%5B126.90945108485955%2C%2037.49258677822099%5D%5D%5D%5D%2C%20%22type%22%3A%20%22MultiPolygon%22%7D%2C%20%22id%22%3A%20%22296%22%2C%20%22properties%22%3A%20%7B%22OBJECTID%22%3A%20297%2C%20%22adm_cd%22%3A%20%221119070%22%2C%20%22adm_cd2%22%3A%20%221156070000%22%2C%20%22adm_nm%22%3A%20%22%5Cuc11c%5Cuc6b8%5Cud2b9%5Cubcc4%5Cuc2dc%20%5Cuc601%5Cub4f1%5Cud3ec%5Cuad6c%20%5Cub300%5Cub9bc1%5Cub3d9%22%2C%20%22highlight%22%3A%20%7B%7D%2C%20%22sgg%22%3A%20%2211560%22%2C%20%22sggnm%22%3A%20%22%5Cuc601%5Cub4f1%5Cud3ec%5Cuad6c%22%2C%20%22sido%22%3A%20%2211%22%2C%20%22sidonm%22%3A%20%22%5Cuc11c%5Cuc6b8%5Cud2b9%5Cubcc4%5Cuc2dc%22%2C%20%22style%22%3A%20%7B%22color%22%3A%20%22black%22%2C%20%22fillColor%22%3A%20%22YlGnBu%22%2C%20%22fillOpacity%22%3A%200.6%2C%20%22opacity%22%3A%201%2C%20%22weight%22%3A%201%7D%7D%2C%20%22type%22%3A%20%22Feature%22%7D%2C%20%7B%22bbox%22%3A%20%5B126.8953703961293%2C%2037.484986282537186%2C%20126.90633045911946%2C%2037.49483044452124%5D%2C%20%22geometry%22%3A%20%7B%22coordinates%22%3A%20%5B%5B%5B%5B126.90633045911946%2C%2037.488926320200605%5D%2C%20%5B126.90322697949205%2C%2037.484986282537186%5D%2C%20%5B126.90298938563738%2C%2037.48498847306707%5D%2C%20%5B126.90290735683145%2C%2037.48499143861561%5D%2C%20%5B126.90276292001369%2C%2037.48500780367841%5D%2C%20%5B126.90045057227056%2C%2037.48566520354547%5D%2C%20%5B126.9002826926562%2C%2037.48576119676847%5D%2C%20%5B126.89883599367354%2C%2037.486590978433995%5D%2C%20%5B126.89859805637306%2C%2037.486728350904755%5D%2C%20%5B126.89770269766855%2C%2037.48747642165152%5D%2C%20%5B126.8975610640586%2C%2037.48759512821425%5D%2C%20%5B126.89741764280718%2C%2037.48775889416138%5D%2C%20%5B126.8953972611576%2C%2037.49203217901984%5D%2C%20%5B126.8953703961293%2C%2037.49210401109809%5D%2C%20%5B126.89992730197534%2C%2037.49483044452124%5D%2C%20%5B126.90192502489629%2C%2037.49240011836713%5D%2C%20%5B126.90633045911946%2C%2037.488926320200605%5D%5D%5D%5D%2C%20%22type%22%3A%20%22MultiPolygon%22%7D%2C%20%22id%22%3A%20%22297%22%2C%20%22properties%22%3A%20%7B%22OBJECTID%22%3A%20298%2C%20%22adm_cd%22%3A%20%221119071%22%2C%20%22adm_cd2%22%3A%20%221156071000%22%2C%20%22adm_nm%22%3A%20%22%5Cuc11c%5Cuc6b8%5Cud2b9%5Cubcc4%5Cuc2dc%20%5Cuc601%5Cub4f1%5Cud3ec%5Cuad6c%20%5Cub300%5Cub9bc2%5Cub3d9%22%2C%20%22highlight%22%3A%20%7B%7D%2C%20%22sgg%22%3A%20%2211560%22%2C%20%22sggnm%22%3A%20%22%5Cuc601%5Cub4f1%5Cud3ec%5Cuad6c%22%2C%20%22sido%22%3A%20%2211%22%2C%20%22sidonm%22%3A%20%22%5Cuc11c%5Cuc6b8%5Cud2b9%5Cubcc4%5Cuc2dc%22%2C%20%22style%22%3A%20%7B%22color%22%3A%20%22black%22%2C%20%22fillColor%22%3A%20%22YlGnBu%22%2C%20%22fillOpacity%22%3A%200.6%2C%20%22opacity%22%3A%201%2C%20%22weight%22%3A%201%7D%7D%2C%20%22type%22%3A%20%22Feature%22%7D%2C%20%7B%22bbox%22%3A%20%5B126.89330991118081%2C%2037.49210401109809%2C%20126.90374416532362%2C%2037.50815159034568%5D%2C%20%22geometry%22%3A%20%7B%22coordinates%22%3A%20%5B%5B%5B%5B126.89821902246794%2C%2037.505333752228786%5D%2C%20%5B126.90047951682075%2C%2037.503025687499814%5D%2C%20%5B126.90120640944139%2C%2037.5023541877583%5D%2C%20%5B126.90133250320682%2C%2037.5022376509248%5D%2C%20%5B126.90217561924551%2C%2037.50143222413777%5D%2C%20%5B126.9020244071995%2C%2037.50121699339697%5D%2C%20%5B126.90189307853049%2C%2037.50101577733057%5D%2C%20%5B126.9018686955123%2C%2037.500970703363016%5D%2C%20%5B126.90177396250226%2C%2037.500795534093456%5D%2C%20%5B126.90174950756874%2C%2037.500749565593054%5D%2C%20%5B126.9017258553186%2C%2037.50070509018898%5D%2C%20%5B126.90165721051356%2C%2037.50053573868399%5D%2C%20%5B126.9016174914673%2C%2037.50048200158637%5D%2C%20%5B126.90145081828024%2C%2037.500253496851656%5D%2C%20%5B126.90142025490378%2C%2037.50019089709636%5D%2C%20%5B126.90138587363606%2C%2037.50015192410091%5D%2C%20%5B126.9013112820299%2C%2037.50006866209731%5D%2C%20%5B126.90109402974146%2C%2037.49982532200198%5D%2C%20%5B126.90102499053111%2C%2037.49974598541952%5D%2C%20%5B126.9010152127821%2C%2037.49968971930335%5D%2C%20%5B126.90116932877295%2C%2037.49938291365617%5D%2C%20%5B126.9017043255306%2C%2037.49879523765296%5D%2C%20%5B126.90191608420271%2C%2037.4985754782263%5D%2C%20%5B126.90197024385812%2C%2037.4985196791846%5D%2C%20%5B126.90205866926202%2C%2037.49842860331001%5D%2C%20%5B126.90209204884023%2C%2037.49839947825559%5D%2C%20%5B126.90213688905258%2C%2037.49836035659004%5D%2C%20%5B126.90256912061928%2C%2037.497990649134536%5D%2C%20%5B126.90312761062879%2C%2037.497558567993416%5D%2C%20%5B126.9036292503098%2C%2037.49733801633794%5D%2C%20%5B126.90370728335179%2C%2037.497305736157706%5D%2C%20%5B126.90374416532362%2C%2037.49729127531359%5D%2C%20%5B126.89992730197534%2C%2037.49483044452124%5D%2C%20%5B126.8953703961293%2C%2037.49210401109809%5D%2C%20%5B126.89454625359079%2C%2037.49432239352335%5D%2C%20%5B126.89352647380453%2C%2037.49772371857485%5D%2C%20%5B126.89345082328757%2C%2037.498254023832416%5D%2C%20%5B126.89344388204984%2C%2037.49841285088338%5D%2C%20%5B126.89332649930383%2C%2037.501124219774304%5D%2C%20%5B126.89332408410922%2C%2037.50118040043836%5D%2C%20%5B126.89330991118081%2C%2037.50151281883764%5D%2C%20%5B126.89332347087611%2C%2037.502021026341396%5D%2C%20%5B126.89333203983917%2C%2037.50230989994807%5D%2C%20%5B126.89333871626418%2C%2037.50251737163815%5D%2C%20%5B126.8933444586877%2C%2037.50257321291207%5D%2C%20%5B126.89340355629605%2C%2037.50313460866683%5D%2C%20%5B126.89368513121799%2C%2037.50441546253393%5D%2C%20%5B126.89385564513887%2C%2037.507478069224476%5D%2C%20%5B126.89513923204422%2C%2037.50815159034568%5D%2C%20%5B126.89717136543304%2C%2037.50626131124524%5D%2C%20%5B126.89821902246794%2C%2037.505333752228786%5D%5D%5D%5D%2C%20%22type%22%3A%20%22MultiPolygon%22%7D%2C%20%22id%22%3A%20%22298%22%2C%20%22properties%22%3A%20%7B%22OBJECTID%22%3A%20299%2C%20%22adm_cd%22%3A%20%221119072%22%2C%20%22adm_cd2%22%3A%20%221156072000%22%2C%20%22adm_nm%22%3A%20%22%5Cuc11c%5Cuc6b8%5Cud2b9%5Cubcc4%5Cuc2dc%20%5Cuc601%5Cub4f1%5Cud3ec%5Cuad6c%20%5Cub300%5Cub9bc3%5Cub3d9%22%2C%20%22highlight%22%3A%20%7B%7D%2C%20%22sgg%22%3A%20%2211560%22%2C%20%22sggnm%22%3A%20%22%5Cuc601%5Cub4f1%5Cud3ec%5Cuad6c%22%2C%20%22sido%22%3A%20%2211%22%2C%20%22sidonm%22%3A%20%22%5Cuc11c%5Cuc6b8%5Cud2b9%5Cubcc4%5Cuc2dc%22%2C%20%22style%22%3A%20%7B%22color%22%3A%20%22black%22%2C%20%22fillColor%22%3A%20%22YlGnBu%22%2C%20%22fillOpacity%22%3A%200.6%2C%20%22opacity%22%3A%201%2C%20%22weight%22%3A%201%7D%7D%2C%20%22type%22%3A%20%22Feature%22%7D%2C%20%7B%22bbox%22%3A%20%5B126.89779449637555%2C%2037.51000434060887%2C%20126.91884074583162%2C%2037.517455920168906%5D%2C%20%22geometry%22%3A%20%7B%22coordinates%22%3A%20%5B%5B%5B%5B126.9137350982683%2C%2037.51138329319419%5D%2C%20%5B126.91029490131251%2C%2037.510705880231164%5D%2C%20%5B126.91019300016123%2C%2037.51253559728698%5D%2C%20%5B126.90762497185405%2C%2037.51235551534068%5D%2C%20%5B126.90739062395555%2C%2037.51221012254361%5D%2C%20%5B126.90595225965605%2C%2037.51114610677264%5D%2C%20%5B126.90532344448243%2C%2037.510433082531904%5D%2C%20%5B126.90191352506203%2C%2037.51000434060887%5D%2C%20%5B126.90189891641779%2C%2037.510033842710854%5D%2C%20%5B126.90187520856773%2C%2037.5100810436574%5D%2C%20%5B126.90061880477259%2C%2037.51226045449412%5D%2C%20%5B126.89815715519023%2C%2037.51145362163084%5D%2C%20%5B126.89786173939528%2C%2037.511870117051785%5D%2C%20%5B126.89779449637555%2C%2037.511965542870215%5D%2C%20%5B126.89783391639384%2C%2037.51198493272413%5D%2C%20%5B126.89975729383816%2C%2037.512808157574%5D%2C%20%5B126.89994758702049%2C%2037.512889570114844%5D%2C%20%5B126.9010019598338%2C%2037.513340640371055%5D%2C%20%5B126.90242644076828%2C%2037.51394894030225%5D%2C%20%5B126.90363725287489%2C%2037.51446601827222%5D%2C%20%5B126.90400360318226%2C%2037.51463684835632%5D%2C%20%5B126.90386341465006%2C%2037.514931356089825%5D%2C%20%5B126.90597348441031%2C%2037.51567996979152%5D%2C%20%5B126.91119895344215%2C%2037.516972533341836%5D%2C%20%5B126.91592882655733%2C%2037.51726522468743%5D%2C%20%5B126.91665582271608%2C%2037.517455920168906%5D%2C%20%5B126.91670693991894%2C%2037.51733400339943%5D%2C%20%5B126.91669045713475%2C%2037.51709442379615%5D%2C%20%5B126.91724739268047%2C%2037.515778945727206%5D%2C%20%5B126.91730111070517%2C%2037.51569132892544%5D%2C%20%5B126.91769436145687%2C%2037.51505105493416%5D%2C%20%5B126.91825611341118%2C%2037.514567092860254%5D%2C%20%5B126.91847435641905%2C%2037.514439453560854%5D%2C%20%5B126.91884074583162%2C%2037.514225117106086%5D%2C%20%5B126.91838536628862%2C%2037.51358638197784%5D%2C%20%5B126.9182881774634%2C%2037.513450781612015%5D%2C%20%5B126.9177702608414%2C%2037.51288445627477%5D%2C%20%5B126.91775025007317%2C%2037.51286329753035%5D%2C%20%5B126.91707582796926%2C%2037.51219522349473%5D%2C%20%5B126.91705477056036%2C%2037.51217483913597%5D%2C%20%5B126.91614360469408%2C%2037.51188582581141%5D%2C%20%5B126.9160451850334%2C%2037.511855414365876%5D%2C%20%5B126.9137350982683%2C%2037.51138329319419%5D%5D%5D%5D%2C%20%22type%22%3A%20%22MultiPolygon%22%7D%2C%20%22id%22%3A%20%22299%22%2C%20%22properties%22%3A%20%7B%22OBJECTID%22%3A%20300%2C%20%22adm_cd%22%3A%20%221119073%22%2C%20%22adm_cd2%22%3A%20%221156051500%22%2C%20%22adm_nm%22%3A%20%22%5Cuc11c%5Cuc6b8%5Cud2b9%5Cubcc4%5Cuc2dc%20%5Cuc601%5Cub4f1%5Cud3ec%5Cuad6c%20%5Cuc601%5Cub4f1%5Cud3ec%5Cubcf8%5Cub3d9%22%2C%20%22highlight%22%3A%20%7B%7D%2C%20%22sgg%22%3A%20%2211560%22%2C%20%22sggnm%22%3A%20%22%5Cuc601%5Cub4f1%5Cud3ec%5Cuad6c%22%2C%20%22sido%22%3A%20%2211%22%2C%20%22sidonm%22%3A%20%22%5Cuc11c%5Cuc6b8%5Cud2b9%5Cubcc4%5Cuc2dc%22%2C%20%22style%22%3A%20%7B%22color%22%3A%20%22black%22%2C%20%22fillColor%22%3A%20%22YlGnBu%22%2C%20%22fillOpacity%22%3A%200.6%2C%20%22opacity%22%3A%201%2C%20%22weight%22%3A%201%7D%7D%2C%20%22type%22%3A%20%22Feature%22%7D%2C%20%7B%22bbox%22%3A%20%5B126.90097427692059%2C%2037.514931356089825%2C%20126.91749192129649%2C%2037.532349179559446%5D%2C%20%22geometry%22%3A%20%7B%22coordinates%22%3A%20%5B%5B%5B%5B126.91320073649011%2C%2037.524416576069264%5D%2C%20%5B126.91338303042477%2C%2037.52416835015541%5D%2C%20%5B126.91369058749481%2C%2037.523749568550514%5D%2C%20%5B126.91522770688535%2C%2037.521551197826085%5D%2C%20%5B126.91582262450869%2C%2037.52063807885018%5D%2C%20%5B126.91601519005386%2C%2037.520342712813935%5D%2C%20%5B126.91664744531634%2C%2037.51989403495129%5D%2C%20%5B126.91719940687875%2C%2037.51958466694874%5D%2C%20%5B126.91749192129649%2C%2037.51944861332825%5D%2C%20%5B126.91665582271608%2C%2037.517455920168906%5D%2C%20%5B126.91592882655733%2C%2037.51726522468743%5D%2C%20%5B126.91119895344215%2C%2037.516972533341836%5D%2C%20%5B126.90597348441031%2C%2037.51567996979152%5D%2C%20%5B126.90386341465006%2C%2037.514931356089825%5D%2C%20%5B126.90378777646964%2C%2037.5149447649845%5D%2C%20%5B126.9034186388813%2C%2037.51501023202484%5D%2C%20%5B126.90319442023173%2C%2037.5151026145188%5D%2C%20%5B126.90316039610526%2C%2037.51512013612608%5D%2C%20%5B126.90298183990284%2C%2037.515215498066034%5D%2C%20%5B126.90289256324711%2C%2037.51526333126933%5D%2C%20%5B126.90256426910162%2C%2037.51554785025209%5D%2C%20%5B126.90252638656692%2C%2037.51559723295995%5D%2C%20%5B126.9023569795072%2C%2037.51582284044117%5D%2C%20%5B126.90217962483659%2C%2037.51611690203556%5D%2C%20%5B126.90210971081068%2C%2037.51623301265874%5D%2C%20%5B126.90200876577045%2C%2037.51647455862715%5D%2C%20%5B126.90191935434501%2C%2037.51668930353353%5D%2C%20%5B126.90142568820298%2C%2037.518019675766965%5D%2C%20%5B126.9012813892056%2C%2037.51846398555016%5D%2C%20%5B126.90115086468278%2C%2037.51886667838041%5D%2C%20%5B126.90109575758922%2C%2037.51903765833564%5D%2C%20%5B126.90108727544643%2C%2037.51906393206647%5D%2C%20%5B126.90107471986897%2C%2037.51910289689202%5D%2C%20%5B126.90100965527547%2C%2037.51945634714975%5D%2C%20%5B126.9009830232993%2C%2037.519867453390965%5D%2C%20%5B126.9009789163053%2C%2037.519939540623376%5D%2C%20%5B126.9009756720509%2C%2037.520079233537416%5D%2C%20%5B126.90097478001445%2C%2037.52013419338181%5D%2C%20%5B126.90097427692059%2C%2037.52016598147088%5D%2C%20%5B126.90100417884365%2C%2037.520406117757226%5D%2C%20%5B126.90213492075627%2C%2037.52424146077694%5D%2C%20%5B126.90220783088431%2C%2037.5244378374517%5D%2C%20%5B126.90223047620556%2C%2037.52449882926128%5D%2C%20%5B126.90283572959682%2C%2037.52612206788627%5D%2C%20%5B126.90486674474309%2C%2037.53091751324323%5D%2C%20%5B126.90501754983207%2C%2037.53123471882076%5D%2C%20%5B126.90504816309293%2C%2037.53129909418516%5D%2C%20%5B126.90517440896414%2C%2037.531563627159045%5D%2C%20%5B126.90523951399334%2C%2037.53170003175386%5D%2C%20%5B126.90543868691286%2C%2037.532095374942195%5D%2C%20%5B126.90546634085044%2C%2037.532149239983006%5D%2C%20%5B126.90640085372681%2C%2037.532349179559446%5D%2C%20%5B126.9065076392352%2C%2037.532079462952005%5D%2C%20%5B126.90638862891892%2C%2037.52826716519907%5D%2C%20%5B126.90639284207823%2C%2037.528092549860375%5D%2C%20%5B126.90640097369939%2C%2037.527780498365914%5D%2C%20%5B126.90643273071983%2C%2037.527610528201244%5D%2C%20%5B126.90647409003267%2C%2037.52738990535043%5D%2C%20%5B126.90650854445552%2C%2037.5272379757074%5D%2C%20%5B126.90662358490093%2C%2037.5267337969%5D%2C%20%5B126.90680331509844%2C%2037.526189383024025%5D%2C%20%5B126.90683141465462%2C%2037.526119507285514%5D%2C%20%5B126.90690144379754%2C%2037.52594538465261%5D%2C%20%5B126.90701292928135%2C%2037.52567096688651%5D%2C%20%5B126.90745677542209%2C%2037.52558210597151%5D%2C%20%5B126.90780716428799%2C%2037.52572346727102%5D%2C%20%5B126.90795094439875%2C%2037.525788407540176%5D%2C%20%5B126.90802491369564%2C%2037.52582708571519%5D%2C%20%5B126.90825192526204%2C%2037.525921738467964%5D%2C%20%5B126.90849273723472%2C%2037.52601128615523%5D%2C%20%5B126.9088946517583%2C%2037.526130014303135%5D%2C%20%5B126.91031269581538%2C%2037.52632976688082%5D%2C%20%5B126.91139547363058%2C%2037.52590023079339%5D%2C%20%5B126.9114271577701%2C%2037.52584702876177%5D%2C%20%5B126.91193734105555%2C%2037.52499034894823%5D%2C%20%5B126.91247417404016%2C%2037.524090543527365%5D%2C%20%5B126.91320073649011%2C%2037.524416576069264%5D%5D%5D%5D%2C%20%22type%22%3A%20%22MultiPolygon%22%7D%2C%20%22id%22%3A%20%22300%22%2C%20%22properties%22%3A%20%7B%22OBJECTID%22%3A%20301%2C%20%22adm_cd%22%3A%20%221119074%22%2C%20%22adm_cd2%22%3A%20%221156053500%22%2C%20%22adm_nm%22%3A%20%22%5Cuc11c%5Cuc6b8%5Cud2b9%5Cubcc4%5Cuc2dc%20%5Cuc601%5Cub4f1%5Cud3ec%5Cuad6c%20%5Cuc601%5Cub4f1%5Cud3ec%5Cub3d9%22%2C%20%22highlight%22%3A%20%7B%7D%2C%20%22sgg%22%3A%20%2211560%22%2C%20%22sggnm%22%3A%20%22%5Cuc601%5Cub4f1%5Cud3ec%5Cuad6c%22%2C%20%22sido%22%3A%20%2211%22%2C%20%22sidonm%22%3A%20%22%5Cuc11c%5Cuc6b8%5Cud2b9%5Cubcc4%5Cuc2dc%22%2C%20%22style%22%3A%20%7B%22color%22%3A%20%22black%22%2C%20%22fillColor%22%3A%20%22YlGnBu%22%2C%20%22fillOpacity%22%3A%200.6%2C%20%22opacity%22%3A%201%2C%20%22weight%22%3A%201%7D%7D%2C%20%22type%22%3A%20%22Feature%22%7D%2C%20%7B%22bbox%22%3A%20%5B126.89296962449474%2C%2037.505333752228786%2C%20126.91029490131251%2C%2037.51253559728698%5D%2C%20%22geometry%22%3A%20%7B%22coordinates%22%3A%20%5B%5B%5B%5B126.91029490131251%2C%2037.510705880231164%5D%2C%20%5B126.9096888683452%2C%2037.510421111844636%5D%2C%20%5B126.90952267038624%2C%2037.51034486044726%5D%2C%20%5B126.90433154556446%2C%2037.50799555844521%5D%2C%20%5B126.90369311737841%2C%2037.50771179114438%5D%2C%20%5B126.89821902246794%2C%2037.505333752228786%5D%2C%20%5B126.89717136543304%2C%2037.50626131124524%5D%2C%20%5B126.89513923204422%2C%2037.50815159034568%5D%2C%20%5B126.89296962449474%2C%2037.50946107193753%5D%2C%20%5B126.89815715519023%2C%2037.51145362163084%5D%2C%20%5B126.90061880477259%2C%2037.51226045449412%5D%2C%20%5B126.90187520856773%2C%2037.5100810436574%5D%2C%20%5B126.90189891641779%2C%2037.510033842710854%5D%2C%20%5B126.90191352506203%2C%2037.51000434060887%5D%2C%20%5B126.90532344448243%2C%2037.510433082531904%5D%2C%20%5B126.90595225965605%2C%2037.51114610677264%5D%2C%20%5B126.90739062395555%2C%2037.51221012254361%5D%2C%20%5B126.90762497185405%2C%2037.51235551534068%5D%2C%20%5B126.91019300016123%2C%2037.51253559728698%5D%2C%20%5B126.91029490131251%2C%2037.510705880231164%5D%5D%5D%5D%2C%20%22type%22%3A%20%22MultiPolygon%22%7D%2C%20%22id%22%3A%20%22301%22%2C%20%22properties%22%3A%20%7B%22OBJECTID%22%3A%20302%2C%20%22adm_cd%22%3A%20%221119075%22%2C%20%22adm_cd2%22%3A%20%221156058500%22%2C%20%22adm_nm%22%3A%20%22%5Cuc11c%5Cuc6b8%5Cud2b9%5Cubcc4%5Cuc2dc%20%5Cuc601%5Cub4f1%5Cud3ec%5Cuad6c%20%5Cub3c4%5Cub9bc%5Cub3d9%22%2C%20%22highlight%22%3A%20%7B%7D%2C%20%22sgg%22%3A%20%2211560%22%2C%20%22sggnm%22%3A%20%22%5Cuc601%5Cub4f1%5Cud3ec%5Cuad6c%22%2C%20%22sido%22%3A%20%2211%22%2C%20%22sidonm%22%3A%20%22%5Cuc11c%5Cuc6b8%5Cud2b9%5Cubcc4%5Cuc2dc%22%2C%20%22style%22%3A%20%7B%22color%22%3A%20%22black%22%2C%20%22fillColor%22%3A%20%22YlGnBu%22%2C%20%22fillOpacity%22%3A%200.6%2C%20%22opacity%22%3A%201%2C%20%22weight%22%3A%201%7D%7D%2C%20%22type%22%3A%20%22Feature%22%7D%2C%20%7B%22bbox%22%3A%20%5B126.87947300173846%2C%2037.50946107193753%2C%20126.90400360318226%2C%2037.52179268230676%5D%2C%20%22geometry%22%3A%20%7B%22coordinates%22%3A%20%5B%5B%5B%5B126.8922546215421%2C%2037.52073773343493%5D%2C%20%5B126.89861717588147%2C%2037.51969544078326%5D%2C%20%5B126.89969031742075%2C%2037.51949133612784%5D%2C%20%5B126.9002861832717%2C%2037.51936028732841%5D%2C%20%5B126.90045906455806%2C%2037.51932173094196%5D%2C%20%5B126.90059445649919%2C%2037.51928298404577%5D%2C%20%5B126.90109575758922%2C%2037.51903765833564%5D%2C%20%5B126.90115086468278%2C%2037.51886667838041%5D%2C%20%5B126.9012813892056%2C%2037.51846398555016%5D%2C%20%5B126.90142568820298%2C%2037.518019675766965%5D%2C%20%5B126.90191935434501%2C%2037.51668930353353%5D%2C%20%5B126.90200876577045%2C%2037.51647455862715%5D%2C%20%5B126.90210971081068%2C%2037.51623301265874%5D%2C%20%5B126.90217962483659%2C%2037.51611690203556%5D%2C%20%5B126.9023569795072%2C%2037.51582284044117%5D%2C%20%5B126.90252638656692%2C%2037.51559723295995%5D%2C%20%5B126.90256426910162%2C%2037.51554785025209%5D%2C%20%5B126.90289256324711%2C%2037.51526333126933%5D%2C%20%5B126.90298183990284%2C%2037.515215498066034%5D%2C%20%5B126.90316039610526%2C%2037.51512013612608%5D%2C%20%5B126.90319442023173%2C%2037.5151026145188%5D%2C%20%5B126.9034186388813%2C%2037.51501023202484%5D%2C%20%5B126.90378777646964%2C%2037.5149447649845%5D%2C%20%5B126.90386341465006%2C%2037.514931356089825%5D%2C%20%5B126.90400360318226%2C%2037.51463684835632%5D%2C%20%5B126.90363725287489%2C%2037.51446601827222%5D%2C%20%5B126.90242644076828%2C%2037.51394894030225%5D%2C%20%5B126.9010019598338%2C%2037.513340640371055%5D%2C%20%5B126.89994758702049%2C%2037.512889570114844%5D%2C%20%5B126.89975729383816%2C%2037.512808157574%5D%2C%20%5B126.89783391639384%2C%2037.51198493272413%5D%2C%20%5B126.89779449637555%2C%2037.511965542870215%5D%2C%20%5B126.89786173939528%2C%2037.511870117051785%5D%2C%20%5B126.89815715519023%2C%2037.51145362163084%5D%2C%20%5B126.89296962449474%2C%2037.50946107193753%5D%2C%20%5B126.89174806934338%2C%2037.50986935563009%5D%2C%20%5B126.89121639688663%2C%2037.510656015074446%5D%2C%20%5B126.89118687531519%2C%2037.51069569094396%5D%2C%20%5B126.89089945000107%2C%2037.51108179034175%5D%2C%20%5B126.8907923611343%2C%2037.5112018380099%5D%2C%20%5B126.89067536012493%2C%2037.511331886317386%5D%2C%20%5B126.89044510235996%2C%2037.51155828954258%5D%2C%20%5B126.89028862859034%2C%2037.51166789749872%5D%2C%20%5B126.88962755055745%2C%2037.512085852379926%5D%2C%20%5B126.88852170114262%2C%2037.51266489693496%5D%2C%20%5B126.88173341660112%2C%2037.51581502279236%5D%2C%20%5B126.87947300173846%2C%2037.51677180493009%5D%2C%20%5B126.8798054802541%2C%2037.52138057002454%5D%2C%20%5B126.88179972544712%2C%2037.52106992496812%5D%2C%20%5B126.88340164027969%2C%2037.52082141432597%5D%2C%20%5B126.88374209949636%2C%2037.52077145380079%5D%2C%20%5B126.88377978347222%2C%2037.520765926852484%5D%2C%20%5B126.88500978412162%2C%2037.52058756127729%5D%2C%20%5B126.88519576714643%2C%2037.52136707056947%5D%2C%20%5B126.88535919467645%2C%2037.52179268230676%5D%2C%20%5B126.8899932115594%2C%2037.5210280264818%5D%2C%20%5B126.89105495962188%2C%2037.52083858859032%5D%2C%20%5B126.8922546215421%2C%2037.52073773343493%5D%5D%5D%5D%2C%20%22type%22%3A%20%22MultiPolygon%22%7D%2C%20%22id%22%3A%20%22302%22%2C%20%22properties%22%3A%20%7B%22OBJECTID%22%3A%20303%2C%20%22adm_cd%22%3A%20%221119076%22%2C%20%22adm_cd2%22%3A%20%221156060500%22%2C%20%22adm_nm%22%3A%20%22%5Cuc11c%5Cuc6b8%5Cud2b9%5Cubcc4%5Cuc2dc%20%5Cuc601%5Cub4f1%5Cud3ec%5Cuad6c%20%5Cubb38%5Cub798%5Cub3d9%22%2C%20%22highlight%22%3A%20%7B%7D%2C%20%22sgg%22%3A%20%2211560%22%2C%20%22sggnm%22%3A%20%22%5Cuc601%5Cub4f1%5Cud3ec%5Cuad6c%22%2C%20%22sido%22%3A%20%2211%22%2C%20%22sidonm%22%3A%20%22%5Cuc11c%5Cuc6b8%5Cud2b9%5Cubcc4%5Cuc2dc%22%2C%20%22style%22%3A%20%7B%22color%22%3A%20%22black%22%2C%20%22fillColor%22%3A%20%22YlGnBu%22%2C%20%22fillOpacity%22%3A%200.6%2C%20%22opacity%22%3A%201%2C%20%22weight%22%3A%201%7D%7D%2C%20%22type%22%3A%20%22Feature%22%7D%5D%2C%20%22type%22%3A%20%22FeatureCollection%22%7D%2C%0A%20%20%20%20%20%20%20%20%20%20%20%20%7B%0A%20%20%20%20%20%20%20%20%20%20%20%20%7D%0A%20%20%20%20%20%20%20%20%29.addTo%28choropleth_2f02cb2be54447dd9ac42c264fdea911%20%29%3B%0A%20%20%20%20%20%20%20%20geo_json_798fa874eb2d48328426257b57896585.setStyle%28function%28feature%29%20%7Breturn%20feature.properties.style%3B%7D%29%3B%0A%20%20%20%20%20%20%20%20%0A%3C/script%3E onload=\"this.contentDocument.open();this.contentDocument.write(    decodeURIComponent(this.getAttribute('data-html')));this.contentDocument.close();\" allowfullscreen webkitallowfullscreen mozallowfullscreen></iframe></div></div>"
            ],
            "text/plain": [
              "<folium.folium.Map at 0x7fdc6170fbd0>"
            ]
          },
          "metadata": {},
          "execution_count": 12
        }
      ]
    },
    {
      "cell_type": "code",
      "metadata": {
        "id": "kZxTE2q1QEkZ"
      },
      "source": [
        "smoking_place = smoking_place.drop_duplicates(subset=['위도', '경도'], keep = False)"
      ],
      "execution_count": null,
      "outputs": []
    },
    {
      "cell_type": "code",
      "metadata": {
        "id": "Hw-fnsSbwPvF"
      },
      "source": [
        "smoking_place['위도']=smoking_place['위도'].astype(float)\n",
        "smoking_place['경도']=smoking_place['경도'].astype(float)\n",
        "smoking_place = smoking_place[smoking_place.자치구명 == gu].reset_index(drop=True)"
      ],
      "execution_count": null,
      "outputs": []
    },
    {
      "cell_type": "code",
      "metadata": {
        "id": "pQH9yCur_n2Q"
      },
      "source": [
        "boundary = boundary[boundary.sggnm == gu]"
      ],
      "execution_count": null,
      "outputs": []
    },
    {
      "cell_type": "code",
      "metadata": {
        "id": "xL9sq0EmAKut"
      },
      "source": [
        "light = light.dropna(axis=0, subset=['위도'])\n",
        "light = light.drop_duplicates(subset=['위도', '경도']).reset_index(drop=True)"
      ],
      "execution_count": null,
      "outputs": []
    },
    {
      "cell_type": "code",
      "metadata": {
        "id": "DZPuRA43itHL"
      },
      "source": [
        "sang = sang[sang.시군구명 == gu].reset_index(drop=True)"
      ],
      "execution_count": null,
      "outputs": []
    },
    {
      "cell_type": "code",
      "metadata": {
        "colab": {
          "base_uri": "https://localhost:8080/",
          "height": 204
        },
        "id": "N2L9hdS4Ma5w",
        "outputId": "6b8c26e8-2b42-4110-a87b-b0a59a1a89ee"
      },
      "source": [
        "school[school['소재지도로명주소'].isna() == True]"
      ],
      "execution_count": null,
      "outputs": [
        {
          "output_type": "execute_result",
          "data": {
            "text/html": [
              "<div>\n",
              "<style scoped>\n",
              "    .dataframe tbody tr th:only-of-type {\n",
              "        vertical-align: middle;\n",
              "    }\n",
              "\n",
              "    .dataframe tbody tr th {\n",
              "        vertical-align: top;\n",
              "    }\n",
              "\n",
              "    .dataframe thead th {\n",
              "        text-align: right;\n",
              "    }\n",
              "</style>\n",
              "<table border=\"1\" class=\"dataframe\">\n",
              "  <thead>\n",
              "    <tr style=\"text-align: right;\">\n",
              "      <th></th>\n",
              "      <th>학교ID</th>\n",
              "      <th>학교명</th>\n",
              "      <th>학교급구분</th>\n",
              "      <th>설립일자</th>\n",
              "      <th>설립형태</th>\n",
              "      <th>본교분교구분</th>\n",
              "      <th>운영상태</th>\n",
              "      <th>소재지지번주소</th>\n",
              "      <th>소재지도로명주소</th>\n",
              "      <th>시도교육청코드</th>\n",
              "      <th>시도교육청명</th>\n",
              "      <th>교육지원청코드</th>\n",
              "      <th>교육지원청명</th>\n",
              "      <th>생성일자</th>\n",
              "      <th>변경일자</th>\n",
              "      <th>위도</th>\n",
              "      <th>경도</th>\n",
              "      <th>데이터기준일자</th>\n",
              "    </tr>\n",
              "  </thead>\n",
              "  <tbody>\n",
              "    <tr>\n",
              "      <th>2431</th>\n",
              "      <td>B000023066</td>\n",
              "      <td>신우초등학교</td>\n",
              "      <td>초등학교</td>\n",
              "      <td>2021-09-01</td>\n",
              "      <td>공립</td>\n",
              "      <td>본교</td>\n",
              "      <td>운영</td>\n",
              "      <td>경기도 하남시 감일동 82번지 일원</td>\n",
              "      <td>NaN</td>\n",
              "      <td>7530000</td>\n",
              "      <td>경기도교육청</td>\n",
              "      <td>7692000</td>\n",
              "      <td>경기도광주하남교육지원청</td>\n",
              "      <td>2013-11-29</td>\n",
              "      <td>2021-08-18</td>\n",
              "      <td>37.510998</td>\n",
              "      <td>127.160840</td>\n",
              "      <td>2021-09-15</td>\n",
              "    </tr>\n",
              "    <tr>\n",
              "      <th>10231</th>\n",
              "      <td>B000026906</td>\n",
              "      <td>판교대장초등학교</td>\n",
              "      <td>초등학교</td>\n",
              "      <td>2021-06-01</td>\n",
              "      <td>공립</td>\n",
              "      <td>본교</td>\n",
              "      <td>운영</td>\n",
              "      <td>경기도 성남시 분당구 대장동 155일원</td>\n",
              "      <td>NaN</td>\n",
              "      <td>7530000</td>\n",
              "      <td>경기도교육청</td>\n",
              "      <td>7551000</td>\n",
              "      <td>경기도성남교육지원청</td>\n",
              "      <td>2013-11-29</td>\n",
              "      <td>2021-06-01</td>\n",
              "      <td>37.368259</td>\n",
              "      <td>127.069684</td>\n",
              "      <td>2021-09-15</td>\n",
              "    </tr>\n",
              "    <tr>\n",
              "      <th>10904</th>\n",
              "      <td>B000026907</td>\n",
              "      <td>판교대장중학교</td>\n",
              "      <td>중학교</td>\n",
              "      <td>2021-06-01</td>\n",
              "      <td>공립</td>\n",
              "      <td>본교</td>\n",
              "      <td>운영</td>\n",
              "      <td>경기도 성남시 분당구 대장동 189일원</td>\n",
              "      <td>NaN</td>\n",
              "      <td>7530000</td>\n",
              "      <td>경기도교육청</td>\n",
              "      <td>7551000</td>\n",
              "      <td>경기도성남교육지원청</td>\n",
              "      <td>2013-11-29</td>\n",
              "      <td>2021-06-01</td>\n",
              "      <td>37.368500</td>\n",
              "      <td>127.069555</td>\n",
              "      <td>2021-09-15</td>\n",
              "    </tr>\n",
              "  </tbody>\n",
              "</table>\n",
              "</div>"
            ],
            "text/plain": [
              "             학교ID       학교명 학교급구분  ...         위도          경도     데이터기준일자\n",
              "2431   B000023066    신우초등학교  초등학교  ...  37.510998  127.160840  2021-09-15\n",
              "10231  B000026906  판교대장초등학교  초등학교  ...  37.368259  127.069684  2021-09-15\n",
              "10904  B000026907   판교대장중학교   중학교  ...  37.368500  127.069555  2021-09-15\n",
              "\n",
              "[3 rows x 18 columns]"
            ]
          },
          "metadata": {},
          "execution_count": 18
        }
      ]
    },
    {
      "cell_type": "code",
      "metadata": {
        "colab": {
          "base_uri": "https://localhost:8080/",
          "height": 111
        },
        "id": "SfZbQ2V5M5Id",
        "outputId": "d9e13db3-1666-447f-981a-7569a6ca9c8d"
      },
      "source": [
        "school[school['소재지지번주소'].isna() == True]"
      ],
      "execution_count": null,
      "outputs": [
        {
          "output_type": "execute_result",
          "data": {
            "text/html": [
              "<div>\n",
              "<style scoped>\n",
              "    .dataframe tbody tr th:only-of-type {\n",
              "        vertical-align: middle;\n",
              "    }\n",
              "\n",
              "    .dataframe tbody tr th {\n",
              "        vertical-align: top;\n",
              "    }\n",
              "\n",
              "    .dataframe thead th {\n",
              "        text-align: right;\n",
              "    }\n",
              "</style>\n",
              "<table border=\"1\" class=\"dataframe\">\n",
              "  <thead>\n",
              "    <tr style=\"text-align: right;\">\n",
              "      <th></th>\n",
              "      <th>학교ID</th>\n",
              "      <th>학교명</th>\n",
              "      <th>학교급구분</th>\n",
              "      <th>설립일자</th>\n",
              "      <th>설립형태</th>\n",
              "      <th>본교분교구분</th>\n",
              "      <th>운영상태</th>\n",
              "      <th>소재지지번주소</th>\n",
              "      <th>소재지도로명주소</th>\n",
              "      <th>시도교육청코드</th>\n",
              "      <th>시도교육청명</th>\n",
              "      <th>교육지원청코드</th>\n",
              "      <th>교육지원청명</th>\n",
              "      <th>생성일자</th>\n",
              "      <th>변경일자</th>\n",
              "      <th>위도</th>\n",
              "      <th>경도</th>\n",
              "      <th>데이터기준일자</th>\n",
              "    </tr>\n",
              "  </thead>\n",
              "  <tbody>\n",
              "    <tr>\n",
              "      <th>11957</th>\n",
              "      <td>B000030318</td>\n",
              "      <td>초롱초등학교</td>\n",
              "      <td>초등학교</td>\n",
              "      <td>2021-09-01</td>\n",
              "      <td>공립</td>\n",
              "      <td>본교</td>\n",
              "      <td>운영</td>\n",
              "      <td>NaN</td>\n",
              "      <td>경기도 파주시 양지로 101</td>\n",
              "      <td>7530000</td>\n",
              "      <td>경기도교육청</td>\n",
              "      <td>7681000</td>\n",
              "      <td>경기도파주교육지원청</td>\n",
              "      <td>2013-11-29</td>\n",
              "      <td>2021-08-18</td>\n",
              "      <td>37.710002</td>\n",
              "      <td>126.719917</td>\n",
              "      <td>2021-09-15</td>\n",
              "    </tr>\n",
              "  </tbody>\n",
              "</table>\n",
              "</div>"
            ],
            "text/plain": [
              "             학교ID     학교명 학교급구분  ...         위도          경도     데이터기준일자\n",
              "11957  B000030318  초롱초등학교  초등학교  ...  37.710002  126.719917  2021-09-15\n",
              "\n",
              "[1 rows x 18 columns]"
            ]
          },
          "metadata": {},
          "execution_count": 19
        }
      ]
    },
    {
      "cell_type": "code",
      "metadata": {
        "id": "HZ98trhTHMfi"
      },
      "source": [
        "# 서울 내 학교의 소재지 주소 Nan 값이 없기 때문에 실행할 필요는 없음.\n",
        "school.dropna(subset=['소재지지번주소', '소재지도로명주소'], inplace=True)\n",
        "id = [idx for idx, x in enumerate(school.소재지도로명주소) if gu in x]\n",
        "school = school.iloc[id, :]\n",
        "school.reset_index(drop=True, inplace=True)"
      ],
      "execution_count": null,
      "outputs": []
    },
    {
      "cell_type": "code",
      "metadata": {
        "id": "_S5sU4RJZMS2"
      },
      "source": [
        "# 대다수의 시설에 흡연부스, 흡연구역이 존재하거나, 사유지로 담배를 피는 것을 허용하는 업종은 제외 \n",
        "# ex) 'PC/오락/당구/볼링등', '경마/경륜/성인오락', '무도/유흥/가무', '연극/영화/극장', '호텔/콘도',\n",
        "# 모텔/여관/여인숙 근처의 흡연이 만연하므로 제외하지 않음.\n",
        "# 흡연 구역의 수요자로 볼수 없는 시설 \n",
        "# ex) '학원-보습교습입시', '유아교육', '학원-어학'\n",
        "# 소비자의 방문으로 인한 판매가 주를 이루는 것이 아닌, 출장, 온라인으로 서비스를 제공하여 수익을 주로 얻는 자영업종\n",
        "# ex) '주택수리' / but 회사의 규모가 있는 업종인 경우는 drop하지 않음.\n",
        "# 중분류를 기준으로 drop\n",
        "# 각 대분류에 ranking을 매겨 가중치로 사용.\n",
        "# 관광/여가/오락 - 165, 부동산 - 302, 생활서비스 - 1186, 소매 - 1409, 숙박 - 38, 스포츠 - 46, 음식 - 2381, 학문/교육 - 350\n",
        "drop_jung = ['PC/오락/당구/볼링등', '경마/경륜/성인오락', '무도/유흥/가무', '연극/영화/극장', '호텔/콘도', '학원-보습교습입시', '유아교육', '학원-어학', '주택수리']\n",
        "drop_idx = []\n",
        "for i in drop_jung:\n",
        "  drop_idx.extend(list(sang[sang.상권업종중분류명 == i].index))\n",
        "sang.drop(index=drop_idx, inplace=True)"
      ],
      "execution_count": null,
      "outputs": []
    },
    {
      "cell_type": "code",
      "metadata": {
        "id": "7nRJmo5wFxiA"
      },
      "source": [
        "# 기존 흡연구역 반영 필요\n",
        "class PRET:\n",
        "    def __init__(self, cz, sc, li, sm, cr, sg, gu, bd):\n",
        "        # cz = child_zone, DataFrame\n",
        "        # sc = school, DataFrame\n",
        "        # li = light, DataFrame\n",
        "        # sm = smoking_place, DataFrame\n",
        "        # cr = meter, int\n",
        "        # sg = sangga, DataFrame\n",
        "        # gu = 행정구, str\n",
        "        # bd = boundary data, (geojson, shp)\n",
        "        self.cz = cz\n",
        "        self.sc = sc\n",
        "        self.li = li\n",
        "        self.sm = sm\n",
        "        self.cr = cr\n",
        "        self.sg = sg\n",
        "        self.gu = gu\n",
        "        self.bd = bd\n",
        "\n",
        "        self.out_of_coverage()\n",
        "        self.get_in_buffer()\n",
        "        self.get_in_buffer_count()\n",
        "        self.sangga_zero_light()\n",
        "        self.hcluster()\n",
        "        self.hcluster_center()\n",
        "        self.min_distance()\n",
        "\n",
        "    def out_of_coverage(self):\n",
        "\n",
        "        self.cz_gdf = gpd.GeoDataFrame(data = self.cz, geometry=gpd.points_from_xy(self.cz.경도, self.cz.위도), crs='epsg:4326')\n",
        "        self.sc_gdf = gpd.GeoDataFrame(data = self.sc, geometry=gpd.points_from_xy(self.sc.경도, self.sc.위도), crs='epsg:4326')\n",
        "        self.li_gdf = gpd.GeoDataFrame(data = self.li, geometry=gpd.points_from_xy(self.li.경도, self.li.위도), crs='epsg:4326')\n",
        "        self.sm_gdf = gpd.GeoDataFrame(data = self.sm, geometry=gpd.points_from_xy(self.sm.경도, self.sm.위도), crs='epsg:4326')\n",
        "        self.sg_gdf = gpd.GeoDataFrame(data = self.sg, geometry=gpd.points_from_xy(self.sg.경도, self.sg.위도), crs='epsg:4326')\n",
        "\n",
        "        cz_buffer = self.cz_gdf.to_crs(epsg=5186).geometry.buffer(self.cr)\n",
        "        cz_coverage = cz_buffer.unary_union\n",
        "        sc_buffer = self.sc_gdf.to_crs(epsg=5186).geometry.buffer(self.cr)\n",
        "        sc_coverage = sc_buffer.unary_union\n",
        "        sm_buffer = self.sm_gdf.to_crs(epsg=5186).geometry.buffer(100)\n",
        "        sm_coverage = sm_buffer.unary_union\n",
        "\n",
        "        li_out_of_coverage = self.li_gdf.loc[~self.li_gdf['geometry'].to_crs(epsg=5186).apply(lambda x: cz_coverage.contains(x))]\n",
        "        li_out_of_coverage = li_out_of_coverage.loc[~li_out_of_coverage['geometry'].to_crs(epsg=5186).apply(lambda x: sc_coverage.contains(x))]\n",
        "        self.looc = li_out_of_coverage.loc[~li_out_of_coverage['geometry'].to_crs(epsg=5186).apply(lambda x: sm_coverage.contains(x))].reset_index(drop=True)\n",
        "\n",
        "        # m = folium.Map(location=[37.56, 126.99], zoom_start=11)\n",
        "        # folium.Choropleth(geo_data=self.bd[self.bd.sggnm == self.gu], key_on='feature.properties.adm_nm', fill_color='YlGnBu').add_to(m) #fill_color='YlGnBu', 'PuRd', 'YlOrR\n",
        "        # for _, row in self.cz_gdf.iterrows():\n",
        "        #   folium.Marker([row['위도'], row['경도']]).add_to(m)\n",
        "        # for _, row in self.sc_gdf.iterrows():\n",
        "        #   folium.Marker([row['위도'], row['경도']]).add_to(m)\n",
        "        # for _, row in self.sm_gdf.iterrows():\n",
        "        #   folium.Marker([row['위도'], row['경도']]).add_to(m)\n",
        "\n",
        "        # GeoJson(cz_buffer).add_to(m)\n",
        "        # GeoJson(sc_buffer).add_to(m)\n",
        "        # GeoJson(sm_buffer).add_to(m)\n",
        "        # m\n",
        "\n",
        "    def get_in_buffer(self):\n",
        "\n",
        "        gib_buffer = self.looc.to_crs(epsg=5186).geometry.buffer(self.cr)\n",
        "        gib_coverage = gib_buffer.unary_union\n",
        "\n",
        "        self.sioc = self.sg_gdf.loc[self.sg_gdf['geometry'].to_crs(epsg=5186).apply(lambda x: gib_coverage.contains(x))].reset_index(drop=True)\n",
        "\n",
        "        # m = folium.Map(location=[37.56, 126.99], zoom_start=11)\n",
        "        # folium.Choropleth(geo_data=bd[bd.sggnm == gu], key_on='feature.properties.adm_nm', fill_color='YlGnBu').add_to(m) #fill_color='YlGnBu', 'PuRd', 'YlOrR\n",
        "        # for _, row in cd_gdf.iterrows():\n",
        "        #   folium.Marker([row['위도'], row['경도']]).add_to(m)\n",
        "        # for _, row in sangga_in_of_coverage.iterrows():\n",
        "        #   folium.CircleMarker([row['위도'], row['경도']], radius=5, color='red').add_to(m)\n",
        "        # GeoJson(cd_buffer).add_to(m)\n",
        "\n",
        "    def get_in_buffer_count(self):\n",
        "\n",
        "        self.counts = []\n",
        "        for _, i in tqdm(self.looc.iterrows()):\n",
        "          i = pd.DataFrame(data = i)\n",
        "          i = i.T\n",
        "          i = gpd.GeoDataFrame(i, geometry=i.geometry,crs='epsg:4326')\n",
        "          gibc_buffer = i.to_crs(epsg=5186).geometry.buffer(100)\n",
        "          gibc_coverage = gibc_buffer.unary_union\n",
        "\n",
        "          sangga_in_of_coverage = self.sg_gdf.loc[self.sg_gdf['geometry'].to_crs(epsg=5186).apply(lambda x: gibc_coverage.contains(x))]\n",
        "          self.counts.append(len(sangga_in_of_coverage))\n",
        "          self.mc = np.array(self.counts).mean()\n",
        "          self.hc_n = int(self.sioc.shape[0] / self.mc)\n",
        "          \n",
        "    def sangga_zero_light(self):\n",
        "        sangga_in_of_coverages = []\n",
        "        for idx, x in tqdm(self.looc.iterrows()):\n",
        "          x = pd.DataFrame(data=x)\n",
        "          x = x.T\n",
        "          x = gpd.GeoDataFrame(x, geometry=x.geometry, crs='epsg:4326')\n",
        "          x_buffer = x.to_crs(epsg=5186).geometry.buffer(100)\n",
        "          x_coverage = x_buffer.unary_union\n",
        "\n",
        "          sangga_in_of_coverage = self.sioc.loc[self.sioc['geometry'].to_crs(epsg=5186).apply(lambda x: x_coverage.contains(x))]\n",
        "          if len(sangga_in_of_coverage) != 0:\n",
        "            sangga_in_of_coverages.append(idx)\n",
        "\n",
        "        # m = folium.Map(location=[37.56, 126.99], zoom_start=11)\n",
        "        # folium.Choropleth(geo_data=bd[bd.sggnm == gu], key_on='feature.properties.adm_nm', fill_color='YlGnBu').add_to(m) #fill_color='YlGnBu', 'PuRd', 'YlOrR\n",
        "        # for _, row in cd_gdf.iterrows():\n",
        "        #   folium.Marker([row['위도'], row['경도']]).add_to(m)\n",
        "        # for _, row in sangga_in_of_coverage.iterrows():\n",
        "        #   folium.CircleMarker([row['위도'], row['경도']], radius=5, color='red').add_to(m)\n",
        "        # GeoJson(cd_buffer).add_to(m)\n",
        "        self.looc = self.looc.loc[sangga_in_of_coverages, :]\n",
        "\n",
        "    def hcluster(self):\n",
        "        hc = AgglomerativeClustering(self.hc_n, affinity='euclidean', linkage='ward') # \"euclidean\", \"l1\", \"l2\", \"manhattan\", \"cosine\", or \"precomputed\"\n",
        "        self.y_hc = hc.fit_predict(self.looc[['경도', '위도']])\n",
        "        self.looc['y_hc'] = self.y_hc\n",
        "\n",
        "    def hcluster_center(self):\n",
        "        self.center = []\n",
        "        for i in range(self.hc_n):\n",
        "          kms = KMeans(n_clusters=1)\n",
        "          ykms = kms.fit_predict(self.looc[self.looc.y_hc == i][['경도', '위도']])\n",
        "          self.center.extend(kms.cluster_centers_)\n",
        "        \n",
        "    def min_distance(self):\n",
        "        distances = []\n",
        "        self.points = []\n",
        "        for i in self.center:\n",
        "          dis = 9999\n",
        "          for idx, o in self.looc[['경도','위도']].iterrows():\n",
        "            dist = distance(i, o)\n",
        "            if dis > dist:\n",
        "              dis = dist\n",
        "              point = idx\n",
        "          self.points.append(point)\n",
        "          distances.append(dis)\n",
        "        self.looc = self.looc.loc[self.points, :]"
      ],
      "execution_count": null,
      "outputs": []
    },
    {
      "cell_type": "code",
      "metadata": {
        "id": "Fm9lBahnfJtx"
      },
      "source": [
        "def distance(p1, p2):\n",
        "  return math.sqrt((p2[0] - p1[0]) ** 2 + (p2[1] - p1[1]) ** 2)"
      ],
      "execution_count": null,
      "outputs": []
    },
    {
      "cell_type": "code",
      "metadata": {
        "colab": {
          "base_uri": "https://localhost:8080/"
        },
        "id": "X_4KMkHdRKQP",
        "outputId": "937a155a-8078-4719-a628-62dbc1ef147b"
      },
      "source": [
        "a = PRET(child_zone, school, light, smoking_place, 300, sang, gu, boundary)\n"
      ],
      "execution_count": null,
      "outputs": [
        {
          "output_type": "stream",
          "name": "stderr",
          "text": [
            "1719it [23:28,  1.22it/s]\n",
            "1719it [16:17,  1.76it/s]\n"
          ]
        }
      ]
    },
    {
      "cell_type": "code",
      "metadata": {
        "id": "n2b5ycVoi-fn"
      },
      "source": [
        "looc = a.looc\n",
        "sioc = a.sioc"
      ],
      "execution_count": null,
      "outputs": []
    },
    {
      "cell_type": "code",
      "metadata": {
        "colab": {
          "base_uri": "https://localhost:8080/",
          "height": 406
        },
        "id": "u8o8LD1UogTs",
        "outputId": "d58e6b70-00a3-4996-c661-6a569f5a61a7"
      },
      "source": [
        "looc"
      ],
      "execution_count": null,
      "outputs": [
        {
          "output_type": "execute_result",
          "data": {
            "text/html": [
              "<div>\n",
              "<style scoped>\n",
              "    .dataframe tbody tr th:only-of-type {\n",
              "        vertical-align: middle;\n",
              "    }\n",
              "\n",
              "    .dataframe tbody tr th {\n",
              "        vertical-align: top;\n",
              "    }\n",
              "\n",
              "    .dataframe thead th {\n",
              "        text-align: right;\n",
              "    }\n",
              "</style>\n",
              "<table border=\"1\" class=\"dataframe\">\n",
              "  <thead>\n",
              "    <tr style=\"text-align: right;\">\n",
              "      <th></th>\n",
              "      <th>보안등위치명</th>\n",
              "      <th>설치개수</th>\n",
              "      <th>소재지도로명주소</th>\n",
              "      <th>소재지지번주소</th>\n",
              "      <th>위도</th>\n",
              "      <th>경도</th>\n",
              "      <th>설치연도</th>\n",
              "      <th>설치형태</th>\n",
              "      <th>관리기관전화번호</th>\n",
              "      <th>관리기관명</th>\n",
              "      <th>데이터기준일자</th>\n",
              "      <th>geometry</th>\n",
              "      <th>y_hc</th>\n",
              "    </tr>\n",
              "  </thead>\n",
              "  <tbody>\n",
              "    <tr>\n",
              "      <th>1258</th>\n",
              "      <td>신길3동-314</td>\n",
              "      <td>1</td>\n",
              "      <td>서울특별시 영등포구 여의대방로53길22</td>\n",
              "      <td>NaN</td>\n",
              "      <td>37.512051</td>\n",
              "      <td>126.922369</td>\n",
              "      <td>NaN</td>\n",
              "      <td>한전주</td>\n",
              "      <td>02-2670-3838</td>\n",
              "      <td>서울특별시 영등포구</td>\n",
              "      <td>2021-04-16</td>\n",
              "      <td>POINT (126.92237 37.51205)</td>\n",
              "      <td>0</td>\n",
              "    </tr>\n",
              "    <tr>\n",
              "      <th>1173</th>\n",
              "      <td>문래동-70</td>\n",
              "      <td>1</td>\n",
              "      <td>서울특별시 영등포구 선유서로25길20-9</td>\n",
              "      <td>NaN</td>\n",
              "      <td>37.525121</td>\n",
              "      <td>126.883807</td>\n",
              "      <td>NaN</td>\n",
              "      <td>건축물</td>\n",
              "      <td>02-2670-3838</td>\n",
              "      <td>서울특별시 영등포구</td>\n",
              "      <td>2021-04-16</td>\n",
              "      <td>POINT (126.88381 37.52512)</td>\n",
              "      <td>1</td>\n",
              "    </tr>\n",
              "    <tr>\n",
              "      <th>393</th>\n",
              "      <td>대림1동-47</td>\n",
              "      <td>1</td>\n",
              "      <td>서울특별시 영등포구 영등포로185-8</td>\n",
              "      <td>NaN</td>\n",
              "      <td>37.520724</td>\n",
              "      <td>126.902139</td>\n",
              "      <td>NaN</td>\n",
              "      <td>건축물</td>\n",
              "      <td>02-2670-3838</td>\n",
              "      <td>서울특별시 영등포구</td>\n",
              "      <td>2021-04-16</td>\n",
              "      <td>POINT (126.90214 37.52072)</td>\n",
              "      <td>2</td>\n",
              "    </tr>\n",
              "    <tr>\n",
              "      <th>1675</th>\n",
              "      <td>영등포본동-637</td>\n",
              "      <td>1</td>\n",
              "      <td>서울특별시 영등포구 대림로29라길10-2</td>\n",
              "      <td>NaN</td>\n",
              "      <td>37.494762</td>\n",
              "      <td>126.895408</td>\n",
              "      <td>NaN</td>\n",
              "      <td>전용주</td>\n",
              "      <td>02-2670-3838</td>\n",
              "      <td>서울특별시 영등포구</td>\n",
              "      <td>2021-04-16</td>\n",
              "      <td>POINT (126.89541 37.49476)</td>\n",
              "      <td>3</td>\n",
              "    </tr>\n",
              "    <tr>\n",
              "      <th>1463</th>\n",
              "      <td>양평2동-185</td>\n",
              "      <td>1</td>\n",
              "      <td>서울특별시 영등포구 영등포로86길17</td>\n",
              "      <td>NaN</td>\n",
              "      <td>37.511321</td>\n",
              "      <td>126.923120</td>\n",
              "      <td>NaN</td>\n",
              "      <td>한전주</td>\n",
              "      <td>02-2670-3838</td>\n",
              "      <td>서울특별시 영등포구</td>\n",
              "      <td>2021-04-16</td>\n",
              "      <td>POINT (126.92312 37.51132)</td>\n",
              "      <td>4</td>\n",
              "    </tr>\n",
              "    <tr>\n",
              "      <th>...</th>\n",
              "      <td>...</td>\n",
              "      <td>...</td>\n",
              "      <td>...</td>\n",
              "      <td>...</td>\n",
              "      <td>...</td>\n",
              "      <td>...</td>\n",
              "      <td>...</td>\n",
              "      <td>...</td>\n",
              "      <td>...</td>\n",
              "      <td>...</td>\n",
              "      <td>...</td>\n",
              "      <td>...</td>\n",
              "      <td>...</td>\n",
              "    </tr>\n",
              "    <tr>\n",
              "      <th>1526</th>\n",
              "      <td>영등포동-503</td>\n",
              "      <td>1</td>\n",
              "      <td>서울특별시 영등포구 도림로36길3</td>\n",
              "      <td>NaN</td>\n",
              "      <td>37.492385</td>\n",
              "      <td>126.896919</td>\n",
              "      <td>NaN</td>\n",
              "      <td>전용주</td>\n",
              "      <td>02-2670-3838</td>\n",
              "      <td>서울특별시 영등포구</td>\n",
              "      <td>2021-04-16</td>\n",
              "      <td>POINT (126.89692 37.49238)</td>\n",
              "      <td>250</td>\n",
              "    </tr>\n",
              "    <tr>\n",
              "      <th>352</th>\n",
              "      <td>대림1동-27</td>\n",
              "      <td>1</td>\n",
              "      <td>서울특별시 영등포구 버드나루로7길12-22</td>\n",
              "      <td>NaN</td>\n",
              "      <td>37.524129</td>\n",
              "      <td>126.908911</td>\n",
              "      <td>NaN</td>\n",
              "      <td>한전주</td>\n",
              "      <td>02-2670-3838</td>\n",
              "      <td>서울특별시 영등포구</td>\n",
              "      <td>2021-04-16</td>\n",
              "      <td>POINT (126.90891 37.52413)</td>\n",
              "      <td>251</td>\n",
              "    </tr>\n",
              "    <tr>\n",
              "      <th>33</th>\n",
              "      <td>당산1동-138</td>\n",
              "      <td>1</td>\n",
              "      <td>서울특별시 영등포구 영신로21-6</td>\n",
              "      <td>NaN</td>\n",
              "      <td>37.513349</td>\n",
              "      <td>126.908191</td>\n",
              "      <td>NaN</td>\n",
              "      <td>전용주</td>\n",
              "      <td>02-2670-3838</td>\n",
              "      <td>서울특별시 영등포구</td>\n",
              "      <td>2021-04-16</td>\n",
              "      <td>POINT (126.90819 37.51335)</td>\n",
              "      <td>252</td>\n",
              "    </tr>\n",
              "    <tr>\n",
              "      <th>488</th>\n",
              "      <td>대림2동-136</td>\n",
              "      <td>1</td>\n",
              "      <td>서울특별시 영등포구 영등포로29길12</td>\n",
              "      <td>NaN</td>\n",
              "      <td>37.521837</td>\n",
              "      <td>126.900341</td>\n",
              "      <td>NaN</td>\n",
              "      <td>한전주</td>\n",
              "      <td>02-2670-3838</td>\n",
              "      <td>서울특별시 영등포구</td>\n",
              "      <td>2021-04-16</td>\n",
              "      <td>POINT (126.90034 37.52184)</td>\n",
              "      <td>253</td>\n",
              "    </tr>\n",
              "    <tr>\n",
              "      <th>1125</th>\n",
              "      <td>문래동-349</td>\n",
              "      <td>1</td>\n",
              "      <td>서울특별시 영등포구 경인로93길1-6</td>\n",
              "      <td>NaN</td>\n",
              "      <td>37.515257</td>\n",
              "      <td>126.902170</td>\n",
              "      <td>NaN</td>\n",
              "      <td>전용주</td>\n",
              "      <td>02-2670-3838</td>\n",
              "      <td>서울특별시 영등포구</td>\n",
              "      <td>2021-04-16</td>\n",
              "      <td>POINT (126.90217 37.51526)</td>\n",
              "      <td>254</td>\n",
              "    </tr>\n",
              "  </tbody>\n",
              "</table>\n",
              "<p>255 rows × 13 columns</p>\n",
              "</div>"
            ],
            "text/plain": [
              "         보안등위치명  설치개수  ...                    geometry y_hc\n",
              "1258   신길3동-314     1  ...  POINT (126.92237 37.51205)    0\n",
              "1173     문래동-70     1  ...  POINT (126.88381 37.52512)    1\n",
              "393     대림1동-47     1  ...  POINT (126.90214 37.52072)    2\n",
              "1675  영등포본동-637     1  ...  POINT (126.89541 37.49476)    3\n",
              "1463   양평2동-185     1  ...  POINT (126.92312 37.51132)    4\n",
              "...         ...   ...  ...                         ...  ...\n",
              "1526   영등포동-503     1  ...  POINT (126.89692 37.49238)  250\n",
              "352     대림1동-27     1  ...  POINT (126.90891 37.52413)  251\n",
              "33     당산1동-138     1  ...  POINT (126.90819 37.51335)  252\n",
              "488    대림2동-136     1  ...  POINT (126.90034 37.52184)  253\n",
              "1125    문래동-349     1  ...  POINT (126.90217 37.51526)  254\n",
              "\n",
              "[255 rows x 13 columns]"
            ]
          },
          "metadata": {},
          "execution_count": 31
        }
      ]
    },
    {
      "cell_type": "code",
      "metadata": {
        "id": "5W30X4xYMKzc"
      },
      "source": [
        "looc.to_csv('%s_looc.csv'%(gu))\n",
        "sioc.to_csv('%s_sioc.csv'%(gu))"
      ],
      "execution_count": null,
      "outputs": []
    }
  ]
}
